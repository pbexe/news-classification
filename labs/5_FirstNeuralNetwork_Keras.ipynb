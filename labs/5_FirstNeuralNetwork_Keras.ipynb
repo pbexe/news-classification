{
  "nbformat": 4,
  "nbformat_minor": 0,
  "metadata": {
    "colab": {
      "name": "5_FirstNeuralNetwork_Keras.ipynb",
      "provenance": [],
      "collapsed_sections": []
    },
    "kernelspec": {
      "name": "python3",
      "display_name": "Python 3.8.6 64-bit",
      "metadata": {
        "interpreter": {
          "hash": "e9edc7c343a24c288550b17b6dde5d80d15c0458da4e16379f6e1a66c9f3762f"
        }
      }
    }
  },
  "cells": [
    {
      "cell_type": "markdown",
      "metadata": {
        "id": "PG7F15TeVuxb"
      },
      "source": [
        "This Jupyter notebook includes a simple design of a neural network using the [Keras](https://keras.io/) library. Keras is a high-level neural network library running on top of machine learning platforms such as TensorFlow.\n",
        "\n",
        "This notebook also includes some tips and common practical functions when training a neural network.  At the end of this exercise you will have already implemented your first neural network in Python!\n",
        "\n",
        "\n"
      ]
    },
    {
      "cell_type": "markdown",
      "metadata": {
        "id": "MAnvJOAnTYfa"
      },
      "source": [
        "This notebook is based on the following [blog post](https://towardsdatascience.com/building-our-first-neural-network-in-keras-bdc8abbc17f5) (you can check it for more details)."
      ]
    },
    {
      "cell_type": "markdown",
      "metadata": {
        "id": "oXTVxIXysM9O"
      },
      "source": [
        "## TRAINING A NEURAL NETWORK\n",
        "\n",
        "---\n",
        "\n",
        "As usual, we first import the libraries that we are going to use, including now Keras.\n",
        "\n",
        "**Note:** All these libraries need to be downloaded beforehand if not using Google Colab. Check their official websites for details on how to install them."
      ]
    },
    {
      "cell_type": "code",
      "metadata": {
        "id": "-Nv6UldrVuXv"
      },
      "source": [
        "import numpy as np\n",
        "import nltk\n",
        "import sklearn\n",
        "import keras\n",
        "import requests\n",
        "import random"
      ],
      "execution_count": 4,
      "outputs": []
    },
    {
      "cell_type": "markdown",
      "metadata": {
        "id": "QLX-9_KS2Xer"
      },
      "source": [
        "We are going to use a dataset that contains mobile phone features. Our goal is to build a neural network that can predict the price range of a mobile phone given its features (e.g. batery power or whether it accepts dual sim or not). For this datasets four price ranges are used:\n",
        "\n",
        "*   0 - low cost\n",
        "*   1 - medium cost\n",
        "*   2 - high cost\n",
        "*   3 - very high cost\n",
        "\n",
        "More information about the dataset can be found [here](https://www.kaggle.com/iabhishekofficial/mobile-price-classification).\n",
        "\n",
        "We are going to load the dataset directly from the internet, but remember from the first semester that you can also load your dataset locally if you wish, or through Google Drive if using Google Colab:\n",
        "\n",
        "\n",
        "\n",
        "\n"
      ]
    },
    {
      "cell_type": "code",
      "metadata": {
        "id": "vR3p8oif2EC6"
      },
      "source": [
        "url_train=\"http://josecamachocollados.com/mobilephone_train.csv\" # Containing the training set of the mobile phone dataset, one phone per line\n",
        "url_test=\"http://josecamachocollados.com/mobilephone_test.csv\" # Containing the test set of the mobile phone dataset, one phone per line\n",
        "\n",
        "#Load training set\n",
        "response_train = requests.get(url_train)\n",
        "dataset_file_train = response_train.text.split(\"\\n\")\n",
        "\n",
        "#Load test set\n",
        "response_test = requests.get(url_test)\n",
        "dataset_file_test = response_test.text.split(\"\\n\")"
      ],
      "execution_count": 5,
      "outputs": []
    },
    {
      "cell_type": "markdown",
      "metadata": {
        "id": "pIyQsNSvd5wr"
      },
      "source": [
        "The first line of each set contains all different feature names. Let's now print the features and the first five instances of the training set"
      ]
    },
    {
      "cell_type": "code",
      "metadata": {
        "id": "wGig7uiMd-DV"
      },
      "source": [
        "print (dataset_file_train[0])\n",
        "print (\"  ----  \\n\")\n",
        "for line in dataset_file_train[1:6]:\n",
        "  print (line) "
      ],
      "execution_count": 6,
      "outputs": [
        {
          "output_type": "stream",
          "name": "stdout",
          "text": [
            "battery_power,blue,clock_speed,dual_sim,fc,four_g,int_memory,m_dep,mobile_wt,n_cores,pc,px_height,px_width,ram,sc_h,sc_w,talk_time,three_g,touch_screen,wifi,price_range\n  ----  \n\n842,0,2.2,0,1,0,7,0.6,188,2,2,20,756,2549,9,7,19,0,0,1,1\n1021,1,0.5,1,0,1,53,0.7,136,3,6,905,1988,2631,17,3,7,1,1,0,2\n563,1,0.5,1,2,1,41,0.9,145,5,6,1263,1716,2603,11,2,9,1,1,0,2\n615,1,2.5,0,0,0,10,0.8,131,6,9,1216,1786,2769,16,8,11,1,0,0,2\n1821,1,1.2,0,13,1,44,0.6,141,2,14,1208,1212,1411,8,2,15,1,1,0,1\n"
          ]
        }
      ]
    },
    {
      "cell_type": "markdown",
      "metadata": {
        "id": "rwJaJMhqPkQs"
      },
      "source": [
        "As usual, we are going to load the features in a vector form. In this case we are going to create a numpy matrix with the features and another one with the labels (i.e. the price in this case) for the training set."
      ]
    },
    {
      "cell_type": "code",
      "metadata": {
        "id": "Mq8h2O22RkWs"
      },
      "source": [
        "dataset_train_noheader=dataset_file_train[1:] # We remove the header with the name of the features\n",
        "random.shuffle(dataset_train_noheader) # We shuffle the instances of the dataset\n",
        "\n",
        "len_dataset_train=len(dataset_train_noheader) # Number of instances in the training set\n",
        "num_features_train=len(dataset_train_noheader[1].split(\",\"))-1 # Number of features in the dataset\n",
        "print (\"The training set has \"+str(len_dataset_train)+\" instances and \"+str(num_features_train)+\" features per instance\")\n",
        "\n",
        "X_train=np.zeros((len_dataset_train,num_features_train)) # Initialization of the feature array of the training set\n",
        "Y_train=np.zeros((len_dataset_train,1)) # Initialization of the label array of the training set\n",
        "for i,line in enumerate(dataset_train_noheader):\n",
        "  linesplit=line.strip().split(\",\")\n",
        "  for j,feature in enumerate(linesplit[:-1]):\n",
        "    X_train[i,j]=float(feature)\n",
        "  Y_train[i,0]=int(linesplit[-1])\n",
        "print (\"Training set has now been loaded into a numpy matrix\")"
      ],
      "execution_count": 7,
      "outputs": [
        {
          "output_type": "stream",
          "name": "stdout",
          "text": [
            "The training set has 1850 instances and 20 features per instance\nTraining set has now been loaded into a numpy matrix\n"
          ]
        }
      ]
    },
    {
      "cell_type": "markdown",
      "metadata": {
        "id": "W34EfgiARiVh"
      },
      "source": [
        "**Note:** Remember that you can also load a csv file using [pandas](https://pandas.pydata.org) if you prefer."
      ]
    },
    {
      "cell_type": "markdown",
      "metadata": {
        "id": "2CGwlOLAZEcB"
      },
      "source": [
        "**Excercise (Optional):** Repeat the same process to build the numpy training set by using pandas (`X_train` and `Y_train` should have the same values at the end)."
      ]
    },
    {
      "cell_type": "markdown",
      "metadata": {
        "id": "0n7mLsGBPkmU"
      },
      "source": [
        "One issue with most neural networks (and machine learning learning in general) is that they may not cope well with features with different ranges. To this end, it is often advisable to normalize all features to a common scale. We can do that using the [StandardScaler](https://scikit-learn.org/stable/modules/generated/sklearn.preprocessing.StandardScaler.html) of sklearn."
      ]
    },
    {
      "cell_type": "code",
      "metadata": {
        "id": "XMbKZUkYWd4k"
      },
      "source": [
        "from sklearn.preprocessing import StandardScaler"
      ],
      "execution_count": 8,
      "outputs": []
    },
    {
      "cell_type": "code",
      "metadata": {
        "id": "LdiRT0gwWld3"
      },
      "source": [
        "sc = StandardScaler()\n",
        "X_train_norm = sc.fit_transform(X_train)"
      ],
      "execution_count": 9,
      "outputs": []
    },
    {
      "cell_type": "markdown",
      "metadata": {
        "id": "pZLeOfaqaaUs"
      },
      "source": [
        "Now we need to convert the labels into one-hot vectors. This is done to be able to integrate all possible predictions into the same vector. In our case, where we have four labels, each label will get converted to the following one-hot vector:\n",
        "\n",
        "*   0 - (1,0,0,0)\n",
        "*   1 - (0,1,0,0)\n",
        "*   2 - (0,0,1,0)\n",
        "*   3 - (0,0,0,1)"
      ]
    },
    {
      "cell_type": "code",
      "metadata": {
        "id": "D9GEvq0mXkpb"
      },
      "source": [
        "from sklearn.preprocessing import OneHotEncoder"
      ],
      "execution_count": 10,
      "outputs": []
    },
    {
      "cell_type": "code",
      "metadata": {
        "id": "iOYYeGPoXmHd"
      },
      "source": [
        "ohe = OneHotEncoder()\n",
        "Y_train_onehot = ohe.fit_transform(Y_train).toarray()\n",
        "size_output_onehot=len(Y_train_onehot[0])\n",
        "print (\"Size of the one-hot label vectors: \"+str(size_output_onehot))\n",
        "print (Y_train_onehot)"
      ],
      "execution_count": 11,
      "outputs": [
        {
          "output_type": "stream",
          "name": "stdout",
          "text": [
            "Size of the one-hot label vectors: 4\n[[0. 1. 0. 0.]\n [1. 0. 0. 0.]\n [1. 0. 0. 0.]\n ...\n [0. 0. 0. 1.]\n [0. 1. 0. 0.]\n [0. 1. 0. 0.]]\n"
          ]
        }
      ]
    },
    {
      "cell_type": "markdown",
      "metadata": {
        "id": "F7OpSVwcaai1"
      },
      "source": [
        "Now it's time to build our neural network! With Keras it is quite simple, but you still need to define the structure and size of your network. For example, let's build a neural network of one hidden layer with 15 dimensions."
      ]
    },
    {
      "cell_type": "code",
      "metadata": {
        "id": "xQYwj4TkYVzn"
      },
      "source": [
        "from keras.models import Sequential\n",
        "from keras.layers import Dense"
      ],
      "execution_count": 12,
      "outputs": []
    },
    {
      "cell_type": "code",
      "metadata": {
        "id": "kKMHo7oSYYDY"
      },
      "source": [
        "model = Sequential() # This will be our neural network. Sequential means that the output of each layer is the input for the next one.\n",
        "model.add(Dense(15, input_dim=num_features_train, activation='relu')) # Our network has as input the same number of features of the training set (i.e. 20 in our case).\n",
        "model.add(Dense(size_output_onehot, activation='softmax')) # The output layer has in this case the same number of dimensions as our label one-hot vectors (i.e. 4 in our case).\n",
        "print (model.summary()) # .summary shows an overview of our model\n",
        "model.compile(loss='categorical_crossentropy', optimizer='adam', metrics=['accuracy']) # This serves to define the loss function and optimizer."
      ],
      "execution_count": 13,
      "outputs": [
        {
          "output_type": "stream",
          "name": "stdout",
          "text": [
            "Model: \"sequential\"\n",
            "_________________________________________________________________\n",
            "Layer (type)                 Output Shape              Param #   \n",
            "=================================================================\n",
            "dense (Dense)                (None, 15)                315       \n",
            "_________________________________________________________________\n",
            "dense_1 (Dense)              (None, 4)                 64        \n",
            "=================================================================\n",
            "Total params: 379\n",
            "Trainable params: 379\n",
            "Non-trainable params: 0\n",
            "_________________________________________________________________\n",
            "None\n"
          ]
        }
      ]
    },
    {
      "cell_type": "markdown",
      "metadata": {
        "id": "2qyFDT0aaUYZ"
      },
      "source": [
        "Let's now train our model! The process is similar as in sklearn, as we simply need to use the `.fit` function. Let's use 250 epochs for example (the number of epochs is the number of times our model will iterate through the entire training set)."
      ]
    },
    {
      "cell_type": "markdown",
      "metadata": {
        "id": "WdsDDtiycQxs"
      },
      "source": [
        "**Note:** If the cell for training is run more than once, the model will start training from where it finished to train the previous time."
      ]
    },
    {
      "cell_type": "code",
      "metadata": {
        "id": "1Q6j9xvWaz4b",
        "tags": [
          "outputPrepend"
        ]
      },
      "source": [
        "history = model.fit(X_train_norm, Y_train_onehot, epochs=250, batch_size=64)"
      ],
      "execution_count": 14,
      "outputs": [
        {
          "output_type": "stream",
          "name": "stdout",
          "text": [
            "===========] - 0s 607us/step - loss: 0.2586 - accuracy: 0.9449\n",
            "Epoch 57/250\n",
            "29/29 [==============================] - 0s 643us/step - loss: 0.2547 - accuracy: 0.9467\n",
            "Epoch 58/250\n",
            "29/29 [==============================] - 0s 607us/step - loss: 0.2414 - accuracy: 0.9499\n",
            "Epoch 59/250\n",
            "29/29 [==============================] - 0s 643us/step - loss: 0.2488 - accuracy: 0.9487\n",
            "Epoch 60/250\n",
            "29/29 [==============================] - 0s 750us/step - loss: 0.2278 - accuracy: 0.9557\n",
            "Epoch 61/250\n",
            "29/29 [==============================] - 0s 786us/step - loss: 0.2319 - accuracy: 0.9546\n",
            "Epoch 62/250\n",
            "29/29 [==============================] - 0s 750us/step - loss: 0.2310 - accuracy: 0.9495\n",
            "Epoch 63/250\n",
            "29/29 [==============================] - 0s 714us/step - loss: 0.2208 - accuracy: 0.9557\n",
            "Epoch 64/250\n",
            "29/29 [==============================] - 0s 643us/step - loss: 0.2200 - accuracy: 0.9581\n",
            "Epoch 65/250\n",
            "29/29 [==============================] - 0s 643us/step - loss: 0.2128 - accuracy: 0.9577\n",
            "Epoch 66/250\n",
            "29/29 [==============================] - 0s 714us/step - loss: 0.2072 - accuracy: 0.9590\n",
            "Epoch 67/250\n",
            "29/29 [==============================] - 0s 679us/step - loss: 0.2059 - accuracy: 0.9619\n",
            "Epoch 68/250\n",
            "29/29 [==============================] - 0s 679us/step - loss: 0.1959 - accuracy: 0.9671\n",
            "Epoch 69/250\n",
            "29/29 [==============================] - 0s 679us/step - loss: 0.1950 - accuracy: 0.9645\n",
            "Epoch 70/250\n",
            "29/29 [==============================] - 0s 714us/step - loss: 0.1919 - accuracy: 0.9676\n",
            "Epoch 71/250\n",
            "29/29 [==============================] - 0s 714us/step - loss: 0.1904 - accuracy: 0.9655\n",
            "Epoch 72/250\n",
            "29/29 [==============================] - 0s 714us/step - loss: 0.1925 - accuracy: 0.9631\n",
            "Epoch 73/250\n",
            "29/29 [==============================] - 0s 643us/step - loss: 0.1949 - accuracy: 0.9620\n",
            "Epoch 74/250\n",
            "29/29 [==============================] - 0s 678us/step - loss: 0.1862 - accuracy: 0.9665\n",
            "Epoch 75/250\n",
            "29/29 [==============================] - 0s 678us/step - loss: 0.1750 - accuracy: 0.9692\n",
            "Epoch 76/250\n",
            "29/29 [==============================] - 0s 607us/step - loss: 0.1752 - accuracy: 0.9730\n",
            "Epoch 77/250\n",
            "29/29 [==============================] - 0s 643us/step - loss: 0.1716 - accuracy: 0.9699\n",
            "Epoch 78/250\n",
            "29/29 [==============================] - 0s 643us/step - loss: 0.1730 - accuracy: 0.9669\n",
            "Epoch 79/250\n",
            "29/29 [==============================] - 0s 679us/step - loss: 0.1710 - accuracy: 0.9720\n",
            "Epoch 80/250\n",
            "29/29 [==============================] - 0s 643us/step - loss: 0.1605 - accuracy: 0.9784\n",
            "Epoch 81/250\n",
            "29/29 [==============================] - 0s 643us/step - loss: 0.1564 - accuracy: 0.9816\n",
            "Epoch 82/250\n",
            "29/29 [==============================] - 0s 607us/step - loss: 0.1594 - accuracy: 0.9771\n",
            "Epoch 83/250\n",
            "29/29 [==============================] - 0s 607us/step - loss: 0.1629 - accuracy: 0.9732\n",
            "Epoch 84/250\n",
            "29/29 [==============================] - 0s 643us/step - loss: 0.1528 - accuracy: 0.9790\n",
            "Epoch 85/250\n",
            "29/29 [==============================] - 0s 750us/step - loss: 0.1513 - accuracy: 0.9750\n",
            "Epoch 86/250\n",
            "29/29 [==============================] - 0s 893us/step - loss: 0.1504 - accuracy: 0.9804\n",
            "Epoch 87/250\n",
            "29/29 [==============================] - 0s 643us/step - loss: 0.1499 - accuracy: 0.9775\n",
            "Epoch 88/250\n",
            "29/29 [==============================] - 0s 643us/step - loss: 0.1468 - accuracy: 0.9721\n",
            "Epoch 89/250\n",
            "29/29 [==============================] - 0s 643us/step - loss: 0.1499 - accuracy: 0.9719\n",
            "Epoch 90/250\n",
            "29/29 [==============================] - 0s 571us/step - loss: 0.1428 - accuracy: 0.9816\n",
            "Epoch 91/250\n",
            "29/29 [==============================] - 0s 571us/step - loss: 0.1485 - accuracy: 0.9753\n",
            "Epoch 92/250\n",
            "29/29 [==============================] - 0s 643us/step - loss: 0.1305 - accuracy: 0.9811\n",
            "Epoch 93/250\n",
            "29/29 [==============================] - 0s 643us/step - loss: 0.1328 - accuracy: 0.9813\n",
            "Epoch 94/250\n",
            "29/29 [==============================] - 0s 643us/step - loss: 0.1433 - accuracy: 0.9721\n",
            "Epoch 95/250\n",
            "29/29 [==============================] - 0s 571us/step - loss: 0.1316 - accuracy: 0.9781\n",
            "Epoch 96/250\n",
            "29/29 [==============================] - 0s 750us/step - loss: 0.1264 - accuracy: 0.9766\n",
            "Epoch 97/250\n",
            "29/29 [==============================] - 0s 679us/step - loss: 0.1386 - accuracy: 0.9784\n",
            "Epoch 98/250\n",
            "29/29 [==============================] - 0s 714us/step - loss: 0.1318 - accuracy: 0.9762\n",
            "Epoch 99/250\n",
            "29/29 [==============================] - 0s 714us/step - loss: 0.1304 - accuracy: 0.9781\n",
            "Epoch 100/250\n",
            "29/29 [==============================] - 0s 679us/step - loss: 0.1243 - accuracy: 0.9804\n",
            "Epoch 101/250\n",
            "29/29 [==============================] - 0s 679us/step - loss: 0.1275 - accuracy: 0.9785\n",
            "Epoch 102/250\n",
            "29/29 [==============================] - 0s 750us/step - loss: 0.1242 - accuracy: 0.9847\n",
            "Epoch 103/250\n",
            "29/29 [==============================] - 0s 786us/step - loss: 0.1201 - accuracy: 0.9824\n",
            "Epoch 104/250\n",
            "29/29 [==============================] - 0s 643us/step - loss: 0.1174 - accuracy: 0.9829\n",
            "Epoch 105/250\n",
            "29/29 [==============================] - 0s 607us/step - loss: 0.1235 - accuracy: 0.9829\n",
            "Epoch 106/250\n",
            "29/29 [==============================] - 0s 714us/step - loss: 0.1166 - accuracy: 0.9819\n",
            "Epoch 107/250\n",
            "29/29 [==============================] - 0s 714us/step - loss: 0.1132 - accuracy: 0.9836\n",
            "Epoch 108/250\n",
            "29/29 [==============================] - 0s 679us/step - loss: 0.1194 - accuracy: 0.9787\n",
            "Epoch 109/250\n",
            "29/29 [==============================] - 0s 929us/step - loss: 0.1191 - accuracy: 0.9812\n",
            "Epoch 110/250\n",
            "29/29 [==============================] - 0s 679us/step - loss: 0.1152 - accuracy: 0.9834\n",
            "Epoch 111/250\n",
            "29/29 [==============================] - 0s 571us/step - loss: 0.1110 - accuracy: 0.9822\n",
            "Epoch 112/250\n",
            "29/29 [==============================] - 0s 678us/step - loss: 0.1115 - accuracy: 0.9841\n",
            "Epoch 113/250\n",
            "29/29 [==============================] - 0s 643us/step - loss: 0.1119 - accuracy: 0.9838\n",
            "Epoch 114/250\n",
            "29/29 [==============================] - 0s 607us/step - loss: 0.1115 - accuracy: 0.9830\n",
            "Epoch 115/250\n",
            "29/29 [==============================] - 0s 607us/step - loss: 0.1061 - accuracy: 0.9878\n",
            "Epoch 116/250\n",
            "29/29 [==============================] - 0s 607us/step - loss: 0.1081 - accuracy: 0.9855\n",
            "Epoch 117/250\n",
            "29/29 [==============================] - 0s 607us/step - loss: 0.1075 - accuracy: 0.9854\n",
            "Epoch 118/250\n",
            "29/29 [==============================] - 0s 607us/step - loss: 0.1050 - accuracy: 0.9868\n",
            "Epoch 119/250\n",
            "29/29 [==============================] - 0s 643us/step - loss: 0.1050 - accuracy: 0.9823\n",
            "Epoch 120/250\n",
            "29/29 [==============================] - 0s 679us/step - loss: 0.1042 - accuracy: 0.9874\n",
            "Epoch 121/250\n",
            "29/29 [==============================] - 0s 714us/step - loss: 0.1033 - accuracy: 0.9845\n",
            "Epoch 122/250\n",
            "29/29 [==============================] - 0s 571us/step - loss: 0.1040 - accuracy: 0.9847\n",
            "Epoch 123/250\n",
            "29/29 [==============================] - 0s 643us/step - loss: 0.1006 - accuracy: 0.9880\n",
            "Epoch 124/250\n",
            "29/29 [==============================] - 0s 571us/step - loss: 0.0949 - accuracy: 0.9891\n",
            "Epoch 125/250\n",
            "29/29 [==============================] - 0s 607us/step - loss: 0.1013 - accuracy: 0.9877\n",
            "Epoch 126/250\n",
            "29/29 [==============================] - 0s 607us/step - loss: 0.0987 - accuracy: 0.9883\n",
            "Epoch 127/250\n",
            "29/29 [==============================] - 0s 643us/step - loss: 0.0954 - accuracy: 0.9938\n",
            "Epoch 128/250\n",
            "29/29 [==============================] - 0s 607us/step - loss: 0.0947 - accuracy: 0.9905\n",
            "Epoch 129/250\n",
            "29/29 [==============================] - 0s 643us/step - loss: 0.0957 - accuracy: 0.9864\n",
            "Epoch 130/250\n",
            "29/29 [==============================] - 0s 607us/step - loss: 0.0984 - accuracy: 0.9876\n",
            "Epoch 131/250\n",
            "29/29 [==============================] - 0s 607us/step - loss: 0.0887 - accuracy: 0.9885\n",
            "Epoch 132/250\n",
            "29/29 [==============================] - 0s 679us/step - loss: 0.0872 - accuracy: 0.9922\n",
            "Epoch 133/250\n",
            "29/29 [==============================] - 0s 607us/step - loss: 0.0851 - accuracy: 0.9899\n",
            "Epoch 134/250\n",
            "29/29 [==============================] - 0s 643us/step - loss: 0.0947 - accuracy: 0.9894\n",
            "Epoch 135/250\n",
            "29/29 [==============================] - 0s 643us/step - loss: 0.0925 - accuracy: 0.9897\n",
            "Epoch 136/250\n",
            "29/29 [==============================] - 0s 571us/step - loss: 0.0880 - accuracy: 0.9881\n",
            "Epoch 137/250\n",
            "29/29 [==============================] - 0s 607us/step - loss: 0.0816 - accuracy: 0.9914\n",
            "Epoch 138/250\n",
            "29/29 [==============================] - 0s 571us/step - loss: 0.0902 - accuracy: 0.9893\n",
            "Epoch 139/250\n",
            "29/29 [==============================] - 0s 607us/step - loss: 0.0866 - accuracy: 0.9869\n",
            "Epoch 140/250\n",
            "29/29 [==============================] - 0s 679us/step - loss: 0.0832 - accuracy: 0.9875\n",
            "Epoch 141/250\n",
            "29/29 [==============================] - 0s 679us/step - loss: 0.0864 - accuracy: 0.9881\n",
            "Epoch 142/250\n",
            "29/29 [==============================] - 0s 786us/step - loss: 0.0808 - accuracy: 0.9901\n",
            "Epoch 143/250\n",
            "29/29 [==============================] - 0s 786us/step - loss: 0.0793 - accuracy: 0.9932\n",
            "Epoch 144/250\n",
            "29/29 [==============================] - 0s 821us/step - loss: 0.0834 - accuracy: 0.9889\n",
            "Epoch 145/250\n",
            "29/29 [==============================] - 0s 679us/step - loss: 0.0805 - accuracy: 0.9912\n",
            "Epoch 146/250\n",
            "29/29 [==============================] - 0s 714us/step - loss: 0.0806 - accuracy: 0.9904\n",
            "Epoch 147/250\n",
            "29/29 [==============================] - 0s 679us/step - loss: 0.0795 - accuracy: 0.9940\n",
            "Epoch 148/250\n",
            "29/29 [==============================] - 0s 750us/step - loss: 0.0793 - accuracy: 0.9897\n",
            "Epoch 149/250\n",
            "29/29 [==============================] - 0s 750us/step - loss: 0.0761 - accuracy: 0.9920\n",
            "Epoch 150/250\n",
            "29/29 [==============================] - 0s 679us/step - loss: 0.0804 - accuracy: 0.9887\n",
            "Epoch 151/250\n",
            "29/29 [==============================] - 0s 679us/step - loss: 0.0735 - accuracy: 0.9928\n",
            "Epoch 152/250\n",
            "29/29 [==============================] - 0s 679us/step - loss: 0.0800 - accuracy: 0.9931\n",
            "Epoch 153/250\n",
            "29/29 [==============================] - 0s 607us/step - loss: 0.0768 - accuracy: 0.9921\n",
            "Epoch 154/250\n",
            "29/29 [==============================] - 0s 679us/step - loss: 0.0772 - accuracy: 0.9891\n",
            "Epoch 155/250\n",
            "29/29 [==============================] - 0s 750us/step - loss: 0.0727 - accuracy: 0.9917\n",
            "Epoch 156/250\n",
            "29/29 [==============================] - 0s 929us/step - loss: 0.0732 - accuracy: 0.9941\n",
            "Epoch 157/250\n",
            "29/29 [==============================] - 0s 821us/step - loss: 0.0726 - accuracy: 0.9920\n",
            "Epoch 158/250\n",
            "29/29 [==============================] - 0s 679us/step - loss: 0.0719 - accuracy: 0.9920\n",
            "Epoch 159/250\n",
            "29/29 [==============================] - 0s 643us/step - loss: 0.0737 - accuracy: 0.9941\n",
            "Epoch 160/250\n",
            "29/29 [==============================] - 0s 643us/step - loss: 0.0739 - accuracy: 0.9916\n",
            "Epoch 161/250\n",
            "29/29 [==============================] - 0s 679us/step - loss: 0.0724 - accuracy: 0.9920\n",
            "Epoch 162/250\n",
            "29/29 [==============================] - 0s 643us/step - loss: 0.0703 - accuracy: 0.9902\n",
            "Epoch 163/250\n",
            "29/29 [==============================] - 0s 679us/step - loss: 0.0683 - accuracy: 0.9953\n",
            "Epoch 164/250\n",
            "29/29 [==============================] - 0s 607us/step - loss: 0.0718 - accuracy: 0.9930\n",
            "Epoch 165/250\n",
            "29/29 [==============================] - 0s 643us/step - loss: 0.0677 - accuracy: 0.9937\n",
            "Epoch 166/250\n",
            "29/29 [==============================] - 0s 607us/step - loss: 0.0687 - accuracy: 0.9931\n",
            "Epoch 167/250\n",
            "29/29 [==============================] - 0s 607us/step - loss: 0.0674 - accuracy: 0.9923\n",
            "Epoch 168/250\n",
            "29/29 [==============================] - 0s 750us/step - loss: 0.0710 - accuracy: 0.9912\n",
            "Epoch 169/250\n",
            "29/29 [==============================] - 0s 643us/step - loss: 0.0671 - accuracy: 0.9922\n",
            "Epoch 170/250\n",
            "29/29 [==============================] - 0s 643us/step - loss: 0.0716 - accuracy: 0.9920\n",
            "Epoch 171/250\n",
            "29/29 [==============================] - 0s 607us/step - loss: 0.0693 - accuracy: 0.9937\n",
            "Epoch 172/250\n",
            "29/29 [==============================] - 0s 607us/step - loss: 0.0655 - accuracy: 0.9945\n",
            "Epoch 173/250\n",
            "29/29 [==============================] - 0s 607us/step - loss: 0.0614 - accuracy: 0.9951\n",
            "Epoch 174/250\n",
            "29/29 [==============================] - 0s 607us/step - loss: 0.0634 - accuracy: 0.9940\n",
            "Epoch 175/250\n",
            "29/29 [==============================] - 0s 679us/step - loss: 0.0670 - accuracy: 0.9917\n",
            "Epoch 176/250\n",
            "29/29 [==============================] - 0s 679us/step - loss: 0.0629 - accuracy: 0.9931\n",
            "Epoch 177/250\n",
            "29/29 [==============================] - 0s 714us/step - loss: 0.0673 - accuracy: 0.9924\n",
            "Epoch 178/250\n",
            "29/29 [==============================] - 0s 786us/step - loss: 0.0613 - accuracy: 0.9936\n",
            "Epoch 179/250\n",
            "29/29 [==============================] - 0s 750us/step - loss: 0.0657 - accuracy: 0.9939\n",
            "Epoch 180/250\n",
            "29/29 [==============================] - 0s 1ms/step - loss: 0.0592 - accuracy: 0.9930\n",
            "Epoch 181/250\n",
            "29/29 [==============================] - 0s 679us/step - loss: 0.0602 - accuracy: 0.9930\n",
            "Epoch 182/250\n",
            "29/29 [==============================] - 0s 679us/step - loss: 0.0592 - accuracy: 0.9949\n",
            "Epoch 183/250\n",
            "29/29 [==============================] - 0s 679us/step - loss: 0.0604 - accuracy: 0.9954\n",
            "Epoch 184/250\n",
            "29/29 [==============================] - 0s 679us/step - loss: 0.0617 - accuracy: 0.9933\n",
            "Epoch 185/250\n",
            "29/29 [==============================] - 0s 714us/step - loss: 0.0568 - accuracy: 0.9925\n",
            "Epoch 186/250\n",
            "29/29 [==============================] - 0s 679us/step - loss: 0.0574 - accuracy: 0.9963\n",
            "Epoch 187/250\n",
            "29/29 [==============================] - 0s 643us/step - loss: 0.0578 - accuracy: 0.9921\n",
            "Epoch 188/250\n",
            "29/29 [==============================] - 0s 750us/step - loss: 0.0604 - accuracy: 0.9899\n",
            "Epoch 189/250\n",
            "29/29 [==============================] - 0s 607us/step - loss: 0.0623 - accuracy: 0.9911\n",
            "Epoch 190/250\n",
            "29/29 [==============================] - 0s 643us/step - loss: 0.0563 - accuracy: 0.9955\n",
            "Epoch 191/250\n",
            "29/29 [==============================] - 0s 607us/step - loss: 0.0558 - accuracy: 0.9934\n",
            "Epoch 192/250\n",
            "29/29 [==============================] - 0s 643us/step - loss: 0.0549 - accuracy: 0.9965\n",
            "Epoch 193/250\n",
            "29/29 [==============================] - 0s 607us/step - loss: 0.0553 - accuracy: 0.9952\n",
            "Epoch 194/250\n",
            "29/29 [==============================] - 0s 643us/step - loss: 0.0529 - accuracy: 0.9943\n",
            "Epoch 195/250\n",
            "29/29 [==============================] - 0s 571us/step - loss: 0.0522 - accuracy: 0.9965\n",
            "Epoch 196/250\n",
            "29/29 [==============================] - 0s 571us/step - loss: 0.0558 - accuracy: 0.9980\n",
            "Epoch 197/250\n",
            "29/29 [==============================] - 0s 643us/step - loss: 0.0569 - accuracy: 0.9980\n",
            "Epoch 198/250\n",
            "29/29 [==============================] - 0s 643us/step - loss: 0.0532 - accuracy: 0.9942\n",
            "Epoch 199/250\n",
            "29/29 [==============================] - 0s 607us/step - loss: 0.0551 - accuracy: 0.9951\n",
            "Epoch 200/250\n",
            "29/29 [==============================] - 0s 607us/step - loss: 0.0526 - accuracy: 0.9947\n",
            "Epoch 201/250\n",
            "29/29 [==============================] - 0s 714us/step - loss: 0.0547 - accuracy: 0.9955\n",
            "Epoch 202/250\n",
            "29/29 [==============================] - 0s 643us/step - loss: 0.0515 - accuracy: 0.9961\n",
            "Epoch 203/250\n",
            "29/29 [==============================] - 0s 679us/step - loss: 0.0514 - accuracy: 0.9984\n",
            "Epoch 204/250\n",
            "29/29 [==============================] - 0s 607us/step - loss: 0.0511 - accuracy: 0.9965\n",
            "Epoch 205/250\n",
            "29/29 [==============================] - 0s 643us/step - loss: 0.0477 - accuracy: 0.9971\n",
            "Epoch 206/250\n",
            "29/29 [==============================] - 0s 607us/step - loss: 0.0520 - accuracy: 0.9952\n",
            "Epoch 207/250\n",
            "29/29 [==============================] - 0s 571us/step - loss: 0.0551 - accuracy: 0.9959\n",
            "Epoch 208/250\n",
            "29/29 [==============================] - 0s 571us/step - loss: 0.0455 - accuracy: 0.9986\n",
            "Epoch 209/250\n",
            "29/29 [==============================] - 0s 571us/step - loss: 0.0491 - accuracy: 0.9966\n",
            "Epoch 210/250\n",
            "29/29 [==============================] - 0s 571us/step - loss: 0.0494 - accuracy: 0.9979\n",
            "Epoch 211/250\n",
            "29/29 [==============================] - 0s 571us/step - loss: 0.0460 - accuracy: 0.9974\n",
            "Epoch 212/250\n",
            "29/29 [==============================] - 0s 571us/step - loss: 0.0519 - accuracy: 0.9981\n",
            "Epoch 213/250\n",
            "29/29 [==============================] - 0s 571us/step - loss: 0.0468 - accuracy: 0.9985\n",
            "Epoch 214/250\n",
            "29/29 [==============================] - 0s 643us/step - loss: 0.0522 - accuracy: 0.9965\n",
            "Epoch 215/250\n",
            "29/29 [==============================] - 0s 643us/step - loss: 0.0514 - accuracy: 0.9973\n",
            "Epoch 216/250\n",
            "29/29 [==============================] - 0s 536us/step - loss: 0.0472 - accuracy: 0.9982\n",
            "Epoch 217/250\n",
            "29/29 [==============================] - 0s 607us/step - loss: 0.0481 - accuracy: 0.9981\n",
            "Epoch 218/250\n",
            "29/29 [==============================] - 0s 572us/step - loss: 0.0495 - accuracy: 0.9965\n",
            "Epoch 219/250\n",
            "29/29 [==============================] - 0s 536us/step - loss: 0.0459 - accuracy: 0.9966\n",
            "Epoch 220/250\n",
            "29/29 [==============================] - 0s 571us/step - loss: 0.0433 - accuracy: 0.9981\n",
            "Epoch 221/250\n",
            "29/29 [==============================] - 0s 571us/step - loss: 0.0465 - accuracy: 0.9979\n",
            "Epoch 222/250\n",
            "29/29 [==============================] - 0s 750us/step - loss: 0.0501 - accuracy: 0.9958\n",
            "Epoch 223/250\n",
            "29/29 [==============================] - 0s 571us/step - loss: 0.0498 - accuracy: 0.9965\n",
            "Epoch 224/250\n",
            "29/29 [==============================] - 0s 571us/step - loss: 0.0464 - accuracy: 0.9996\n",
            "Epoch 225/250\n",
            "29/29 [==============================] - 0s 607us/step - loss: 0.0468 - accuracy: 0.9967\n",
            "Epoch 226/250\n",
            "29/29 [==============================] - 0s 607us/step - loss: 0.0473 - accuracy: 0.9991\n",
            "Epoch 227/250\n",
            "29/29 [==============================] - 0s 571us/step - loss: 0.0404 - accuracy: 0.9993\n",
            "Epoch 228/250\n",
            "29/29 [==============================] - 0s 571us/step - loss: 0.0446 - accuracy: 0.9993\n",
            "Epoch 229/250\n",
            "29/29 [==============================] - 0s 536us/step - loss: 0.0435 - accuracy: 0.9988\n",
            "Epoch 230/250\n",
            "29/29 [==============================] - 0s 571us/step - loss: 0.0454 - accuracy: 0.9961\n",
            "Epoch 231/250\n",
            "29/29 [==============================] - 0s 571us/step - loss: 0.0463 - accuracy: 0.9991\n",
            "Epoch 232/250\n",
            "29/29 [==============================] - 0s 607us/step - loss: 0.0440 - accuracy: 0.9979\n",
            "Epoch 233/250\n",
            "29/29 [==============================] - 0s 571us/step - loss: 0.0441 - accuracy: 0.9977\n",
            "Epoch 234/250\n",
            "29/29 [==============================] - 0s 571us/step - loss: 0.0398 - accuracy: 0.9994\n",
            "Epoch 235/250\n",
            "29/29 [==============================] - 0s 571us/step - loss: 0.0415 - accuracy: 0.9993\n",
            "Epoch 236/250\n",
            "29/29 [==============================] - 0s 571us/step - loss: 0.0446 - accuracy: 0.9986\n",
            "Epoch 237/250\n",
            "29/29 [==============================] - 0s 607us/step - loss: 0.0398 - accuracy: 0.9993\n",
            "Epoch 238/250\n",
            "29/29 [==============================] - 0s 607us/step - loss: 0.0406 - accuracy: 0.9978\n",
            "Epoch 239/250\n",
            "29/29 [==============================] - 0s 679us/step - loss: 0.0401 - accuracy: 0.9980\n",
            "Epoch 240/250\n",
            "29/29 [==============================] - 0s 571us/step - loss: 0.0411 - accuracy: 0.9995\n",
            "Epoch 241/250\n",
            "29/29 [==============================] - 0s 536us/step - loss: 0.0421 - accuracy: 0.9984\n",
            "Epoch 242/250\n",
            "29/29 [==============================] - 0s 607us/step - loss: 0.0412 - accuracy: 0.9966\n",
            "Epoch 243/250\n",
            "29/29 [==============================] - 0s 643us/step - loss: 0.0435 - accuracy: 0.9984\n",
            "Epoch 244/250\n",
            "29/29 [==============================] - 0s 607us/step - loss: 0.0402 - accuracy: 0.9978\n",
            "Epoch 245/250\n",
            "29/29 [==============================] - 0s 571us/step - loss: 0.0411 - accuracy: 0.9983\n",
            "Epoch 246/250\n",
            "29/29 [==============================] - 0s 536us/step - loss: 0.0410 - accuracy: 0.9978\n",
            "Epoch 247/250\n",
            "29/29 [==============================] - 0s 571us/step - loss: 0.0379 - accuracy: 0.9989\n",
            "Epoch 248/250\n",
            "29/29 [==============================] - 0s 607us/step - loss: 0.0388 - accuracy: 0.9975\n",
            "Epoch 249/250\n",
            "29/29 [==============================] - 0s 607us/step - loss: 0.0399 - accuracy: 0.9981\n",
            "Epoch 250/250\n",
            "29/29 [==============================] - 0s 571us/step - loss: 0.0383 - accuracy: 0.9981\n"
          ]
        }
      ]
    },
    {
      "cell_type": "markdown",
      "metadata": {
        "id": "u4X-K4WTAcFb"
      },
      "source": [
        "We can visually see how our model is training and its accuracy per epoch with the Python library [matplotlib](https://matplotlib.org/)."
      ]
    },
    {
      "cell_type": "code",
      "metadata": {
        "id": "gXpMbxdyAd2y"
      },
      "source": [
        "import matplotlib.pyplot as plt"
      ],
      "execution_count": 15,
      "outputs": []
    },
    {
      "cell_type": "code",
      "metadata": {
        "id": "K28QtBYGAe2D"
      },
      "source": [
        "plt.plot(history.history['accuracy'])\n",
        "plt.title('Model accuracy')\n",
        "plt.ylabel('Accuracy')\n",
        "plt.xlabel('Epoch')\n",
        "plt.legend(['Train', 'Test'], loc='upper left')\n",
        "plt.show()"
      ],
      "execution_count": 16,
      "outputs": [
        {
          "output_type": "display_data",
          "data": {
            "text/plain": "<Figure size 432x288 with 1 Axes>",
            "image/svg+xml": "<?xml version=\"1.0\" encoding=\"utf-8\" standalone=\"no\"?>\r\n<!DOCTYPE svg PUBLIC \"-//W3C//DTD SVG 1.1//EN\"\r\n  \"http://www.w3.org/Graphics/SVG/1.1/DTD/svg11.dtd\">\r\n<svg height=\"277.314375pt\" version=\"1.1\" viewBox=\"0 0 385.78125 277.314375\" width=\"385.78125pt\" xmlns=\"http://www.w3.org/2000/svg\" xmlns:xlink=\"http://www.w3.org/1999/xlink\">\r\n <metadata>\r\n  <rdf:RDF xmlns:cc=\"http://creativecommons.org/ns#\" xmlns:dc=\"http://purl.org/dc/elements/1.1/\" xmlns:rdf=\"http://www.w3.org/1999/02/22-rdf-syntax-ns#\">\r\n   <cc:Work>\r\n    <dc:type rdf:resource=\"http://purl.org/dc/dcmitype/StillImage\"/>\r\n    <dc:date>2021-03-29T14:36:18.707403</dc:date>\r\n    <dc:format>image/svg+xml</dc:format>\r\n    <dc:creator>\r\n     <cc:Agent>\r\n      <dc:title>Matplotlib v3.4.0, https://matplotlib.org/</dc:title>\r\n     </cc:Agent>\r\n    </dc:creator>\r\n   </cc:Work>\r\n  </rdf:RDF>\r\n </metadata>\r\n <defs>\r\n  <style type=\"text/css\">*{stroke-linecap:butt;stroke-linejoin:round;}</style>\r\n </defs>\r\n <g id=\"figure_1\">\r\n  <g id=\"patch_1\">\r\n   <path d=\"M 0 277.314375 \r\nL 385.78125 277.314375 \r\nL 385.78125 0 \r\nL 0 0 \r\nz\r\n\" style=\"fill:none;\"/>\r\n  </g>\r\n  <g id=\"axes_1\">\r\n   <g id=\"patch_2\">\r\n    <path d=\"M 43.78125 239.758125 \r\nL 378.58125 239.758125 \r\nL 378.58125 22.318125 \r\nL 43.78125 22.318125 \r\nz\r\n\" style=\"fill:#ffffff;\"/>\r\n   </g>\r\n   <g id=\"matplotlib.axis_1\">\r\n    <g id=\"xtick_1\">\r\n     <g id=\"line2d_1\">\r\n      <defs>\r\n       <path d=\"M 0 0 \r\nL 0 3.5 \r\n\" id=\"m9896fa0aaf\" style=\"stroke:#000000;stroke-width:0.8;\"/>\r\n      </defs>\r\n      <g>\r\n       <use style=\"stroke:#000000;stroke-width:0.8;\" x=\"58.999432\" xlink:href=\"#m9896fa0aaf\" y=\"239.758125\"/>\r\n      </g>\r\n     </g>\r\n     <g id=\"text_1\">\r\n      <!-- 0 -->\r\n      <g transform=\"translate(55.818182 254.356562)scale(0.1 -0.1)\">\r\n       <defs>\r\n        <path d=\"M 2034 4250 \r\nQ 1547 4250 1301 3770 \r\nQ 1056 3291 1056 2328 \r\nQ 1056 1369 1301 889 \r\nQ 1547 409 2034 409 \r\nQ 2525 409 2770 889 \r\nQ 3016 1369 3016 2328 \r\nQ 3016 3291 2770 3770 \r\nQ 2525 4250 2034 4250 \r\nz\r\nM 2034 4750 \r\nQ 2819 4750 3233 4129 \r\nQ 3647 3509 3647 2328 \r\nQ 3647 1150 3233 529 \r\nQ 2819 -91 2034 -91 \r\nQ 1250 -91 836 529 \r\nQ 422 1150 422 2328 \r\nQ 422 3509 836 4129 \r\nQ 1250 4750 2034 4750 \r\nz\r\n\" id=\"DejaVuSans-30\" transform=\"scale(0.015625)\"/>\r\n       </defs>\r\n       <use xlink:href=\"#DejaVuSans-30\"/>\r\n      </g>\r\n     </g>\r\n    </g>\r\n    <g id=\"xtick_2\">\r\n     <g id=\"line2d_2\">\r\n      <g>\r\n       <use style=\"stroke:#000000;stroke-width:0.8;\" x=\"120.116628\" xlink:href=\"#m9896fa0aaf\" y=\"239.758125\"/>\r\n      </g>\r\n     </g>\r\n     <g id=\"text_2\">\r\n      <!-- 50 -->\r\n      <g transform=\"translate(113.754128 254.356562)scale(0.1 -0.1)\">\r\n       <defs>\r\n        <path d=\"M 691 4666 \r\nL 3169 4666 \r\nL 3169 4134 \r\nL 1269 4134 \r\nL 1269 2991 \r\nQ 1406 3038 1543 3061 \r\nQ 1681 3084 1819 3084 \r\nQ 2600 3084 3056 2656 \r\nQ 3513 2228 3513 1497 \r\nQ 3513 744 3044 326 \r\nQ 2575 -91 1722 -91 \r\nQ 1428 -91 1123 -41 \r\nQ 819 9 494 109 \r\nL 494 744 \r\nQ 775 591 1075 516 \r\nQ 1375 441 1709 441 \r\nQ 2250 441 2565 725 \r\nQ 2881 1009 2881 1497 \r\nQ 2881 1984 2565 2268 \r\nQ 2250 2553 1709 2553 \r\nQ 1456 2553 1204 2497 \r\nQ 953 2441 691 2322 \r\nL 691 4666 \r\nz\r\n\" id=\"DejaVuSans-35\" transform=\"scale(0.015625)\"/>\r\n       </defs>\r\n       <use xlink:href=\"#DejaVuSans-35\"/>\r\n       <use x=\"63.623047\" xlink:href=\"#DejaVuSans-30\"/>\r\n      </g>\r\n     </g>\r\n    </g>\r\n    <g id=\"xtick_3\">\r\n     <g id=\"line2d_3\">\r\n      <g>\r\n       <use style=\"stroke:#000000;stroke-width:0.8;\" x=\"181.233824\" xlink:href=\"#m9896fa0aaf\" y=\"239.758125\"/>\r\n      </g>\r\n     </g>\r\n     <g id=\"text_3\">\r\n      <!-- 100 -->\r\n      <g transform=\"translate(171.690074 254.356562)scale(0.1 -0.1)\">\r\n       <defs>\r\n        <path d=\"M 794 531 \r\nL 1825 531 \r\nL 1825 4091 \r\nL 703 3866 \r\nL 703 4441 \r\nL 1819 4666 \r\nL 2450 4666 \r\nL 2450 531 \r\nL 3481 531 \r\nL 3481 0 \r\nL 794 0 \r\nL 794 531 \r\nz\r\n\" id=\"DejaVuSans-31\" transform=\"scale(0.015625)\"/>\r\n       </defs>\r\n       <use xlink:href=\"#DejaVuSans-31\"/>\r\n       <use x=\"63.623047\" xlink:href=\"#DejaVuSans-30\"/>\r\n       <use x=\"127.246094\" xlink:href=\"#DejaVuSans-30\"/>\r\n      </g>\r\n     </g>\r\n    </g>\r\n    <g id=\"xtick_4\">\r\n     <g id=\"line2d_4\">\r\n      <g>\r\n       <use style=\"stroke:#000000;stroke-width:0.8;\" x=\"242.35102\" xlink:href=\"#m9896fa0aaf\" y=\"239.758125\"/>\r\n      </g>\r\n     </g>\r\n     <g id=\"text_4\">\r\n      <!-- 150 -->\r\n      <g transform=\"translate(232.80727 254.356562)scale(0.1 -0.1)\">\r\n       <use xlink:href=\"#DejaVuSans-31\"/>\r\n       <use x=\"63.623047\" xlink:href=\"#DejaVuSans-35\"/>\r\n       <use x=\"127.246094\" xlink:href=\"#DejaVuSans-30\"/>\r\n      </g>\r\n     </g>\r\n    </g>\r\n    <g id=\"xtick_5\">\r\n     <g id=\"line2d_5\">\r\n      <g>\r\n       <use style=\"stroke:#000000;stroke-width:0.8;\" x=\"303.468216\" xlink:href=\"#m9896fa0aaf\" y=\"239.758125\"/>\r\n      </g>\r\n     </g>\r\n     <g id=\"text_5\">\r\n      <!-- 200 -->\r\n      <g transform=\"translate(293.924466 254.356562)scale(0.1 -0.1)\">\r\n       <defs>\r\n        <path d=\"M 1228 531 \r\nL 3431 531 \r\nL 3431 0 \r\nL 469 0 \r\nL 469 531 \r\nQ 828 903 1448 1529 \r\nQ 2069 2156 2228 2338 \r\nQ 2531 2678 2651 2914 \r\nQ 2772 3150 2772 3378 \r\nQ 2772 3750 2511 3984 \r\nQ 2250 4219 1831 4219 \r\nQ 1534 4219 1204 4116 \r\nQ 875 4013 500 3803 \r\nL 500 4441 \r\nQ 881 4594 1212 4672 \r\nQ 1544 4750 1819 4750 \r\nQ 2544 4750 2975 4387 \r\nQ 3406 4025 3406 3419 \r\nQ 3406 3131 3298 2873 \r\nQ 3191 2616 2906 2266 \r\nQ 2828 2175 2409 1742 \r\nQ 1991 1309 1228 531 \r\nz\r\n\" id=\"DejaVuSans-32\" transform=\"scale(0.015625)\"/>\r\n       </defs>\r\n       <use xlink:href=\"#DejaVuSans-32\"/>\r\n       <use x=\"63.623047\" xlink:href=\"#DejaVuSans-30\"/>\r\n       <use x=\"127.246094\" xlink:href=\"#DejaVuSans-30\"/>\r\n      </g>\r\n     </g>\r\n    </g>\r\n    <g id=\"xtick_6\">\r\n     <g id=\"line2d_6\">\r\n      <g>\r\n       <use style=\"stroke:#000000;stroke-width:0.8;\" x=\"364.585412\" xlink:href=\"#m9896fa0aaf\" y=\"239.758125\"/>\r\n      </g>\r\n     </g>\r\n     <g id=\"text_6\">\r\n      <!-- 250 -->\r\n      <g transform=\"translate(355.041662 254.356562)scale(0.1 -0.1)\">\r\n       <use xlink:href=\"#DejaVuSans-32\"/>\r\n       <use x=\"63.623047\" xlink:href=\"#DejaVuSans-35\"/>\r\n       <use x=\"127.246094\" xlink:href=\"#DejaVuSans-30\"/>\r\n      </g>\r\n     </g>\r\n    </g>\r\n    <g id=\"text_7\">\r\n     <!-- Epoch -->\r\n     <g transform=\"translate(195.870313 268.034687)scale(0.1 -0.1)\">\r\n      <defs>\r\n       <path d=\"M 628 4666 \r\nL 3578 4666 \r\nL 3578 4134 \r\nL 1259 4134 \r\nL 1259 2753 \r\nL 3481 2753 \r\nL 3481 2222 \r\nL 1259 2222 \r\nL 1259 531 \r\nL 3634 531 \r\nL 3634 0 \r\nL 628 0 \r\nL 628 4666 \r\nz\r\n\" id=\"DejaVuSans-45\" transform=\"scale(0.015625)\"/>\r\n       <path d=\"M 1159 525 \r\nL 1159 -1331 \r\nL 581 -1331 \r\nL 581 3500 \r\nL 1159 3500 \r\nL 1159 2969 \r\nQ 1341 3281 1617 3432 \r\nQ 1894 3584 2278 3584 \r\nQ 2916 3584 3314 3078 \r\nQ 3713 2572 3713 1747 \r\nQ 3713 922 3314 415 \r\nQ 2916 -91 2278 -91 \r\nQ 1894 -91 1617 61 \r\nQ 1341 213 1159 525 \r\nz\r\nM 3116 1747 \r\nQ 3116 2381 2855 2742 \r\nQ 2594 3103 2138 3103 \r\nQ 1681 3103 1420 2742 \r\nQ 1159 2381 1159 1747 \r\nQ 1159 1113 1420 752 \r\nQ 1681 391 2138 391 \r\nQ 2594 391 2855 752 \r\nQ 3116 1113 3116 1747 \r\nz\r\n\" id=\"DejaVuSans-70\" transform=\"scale(0.015625)\"/>\r\n       <path d=\"M 1959 3097 \r\nQ 1497 3097 1228 2736 \r\nQ 959 2375 959 1747 \r\nQ 959 1119 1226 758 \r\nQ 1494 397 1959 397 \r\nQ 2419 397 2687 759 \r\nQ 2956 1122 2956 1747 \r\nQ 2956 2369 2687 2733 \r\nQ 2419 3097 1959 3097 \r\nz\r\nM 1959 3584 \r\nQ 2709 3584 3137 3096 \r\nQ 3566 2609 3566 1747 \r\nQ 3566 888 3137 398 \r\nQ 2709 -91 1959 -91 \r\nQ 1206 -91 779 398 \r\nQ 353 888 353 1747 \r\nQ 353 2609 779 3096 \r\nQ 1206 3584 1959 3584 \r\nz\r\n\" id=\"DejaVuSans-6f\" transform=\"scale(0.015625)\"/>\r\n       <path d=\"M 3122 3366 \r\nL 3122 2828 \r\nQ 2878 2963 2633 3030 \r\nQ 2388 3097 2138 3097 \r\nQ 1578 3097 1268 2742 \r\nQ 959 2388 959 1747 \r\nQ 959 1106 1268 751 \r\nQ 1578 397 2138 397 \r\nQ 2388 397 2633 464 \r\nQ 2878 531 3122 666 \r\nL 3122 134 \r\nQ 2881 22 2623 -34 \r\nQ 2366 -91 2075 -91 \r\nQ 1284 -91 818 406 \r\nQ 353 903 353 1747 \r\nQ 353 2603 823 3093 \r\nQ 1294 3584 2113 3584 \r\nQ 2378 3584 2631 3529 \r\nQ 2884 3475 3122 3366 \r\nz\r\n\" id=\"DejaVuSans-63\" transform=\"scale(0.015625)\"/>\r\n       <path d=\"M 3513 2113 \r\nL 3513 0 \r\nL 2938 0 \r\nL 2938 2094 \r\nQ 2938 2591 2744 2837 \r\nQ 2550 3084 2163 3084 \r\nQ 1697 3084 1428 2787 \r\nQ 1159 2491 1159 1978 \r\nL 1159 0 \r\nL 581 0 \r\nL 581 4863 \r\nL 1159 4863 \r\nL 1159 2956 \r\nQ 1366 3272 1645 3428 \r\nQ 1925 3584 2291 3584 \r\nQ 2894 3584 3203 3211 \r\nQ 3513 2838 3513 2113 \r\nz\r\n\" id=\"DejaVuSans-68\" transform=\"scale(0.015625)\"/>\r\n      </defs>\r\n      <use xlink:href=\"#DejaVuSans-45\"/>\r\n      <use x=\"63.183594\" xlink:href=\"#DejaVuSans-70\"/>\r\n      <use x=\"126.660156\" xlink:href=\"#DejaVuSans-6f\"/>\r\n      <use x=\"187.841797\" xlink:href=\"#DejaVuSans-63\"/>\r\n      <use x=\"242.822266\" xlink:href=\"#DejaVuSans-68\"/>\r\n     </g>\r\n    </g>\r\n   </g>\r\n   <g id=\"matplotlib.axis_2\">\r\n    <g id=\"ytick_1\">\r\n     <g id=\"line2d_7\">\r\n      <defs>\r\n       <path d=\"M 0 0 \r\nL -3.5 0 \r\n\" id=\"mca61fe7d7f\" style=\"stroke:#000000;stroke-width:0.8;\"/>\r\n      </defs>\r\n      <g>\r\n       <use style=\"stroke:#000000;stroke-width:0.8;\" x=\"43.78125\" xlink:href=\"#mca61fe7d7f\" y=\"221.108516\"/>\r\n      </g>\r\n     </g>\r\n     <g id=\"text_8\">\r\n      <!-- 0.3 -->\r\n      <g transform=\"translate(20.878125 224.907734)scale(0.1 -0.1)\">\r\n       <defs>\r\n        <path d=\"M 684 794 \r\nL 1344 794 \r\nL 1344 0 \r\nL 684 0 \r\nL 684 794 \r\nz\r\n\" id=\"DejaVuSans-2e\" transform=\"scale(0.015625)\"/>\r\n        <path d=\"M 2597 2516 \r\nQ 3050 2419 3304 2112 \r\nQ 3559 1806 3559 1356 \r\nQ 3559 666 3084 287 \r\nQ 2609 -91 1734 -91 \r\nQ 1441 -91 1130 -33 \r\nQ 819 25 488 141 \r\nL 488 750 \r\nQ 750 597 1062 519 \r\nQ 1375 441 1716 441 \r\nQ 2309 441 2620 675 \r\nQ 2931 909 2931 1356 \r\nQ 2931 1769 2642 2001 \r\nQ 2353 2234 1838 2234 \r\nL 1294 2234 \r\nL 1294 2753 \r\nL 1863 2753 \r\nQ 2328 2753 2575 2939 \r\nQ 2822 3125 2822 3475 \r\nQ 2822 3834 2567 4026 \r\nQ 2313 4219 1838 4219 \r\nQ 1578 4219 1281 4162 \r\nQ 984 4106 628 3988 \r\nL 628 4550 \r\nQ 988 4650 1302 4700 \r\nQ 1616 4750 1894 4750 \r\nQ 2613 4750 3031 4423 \r\nQ 3450 4097 3450 3541 \r\nQ 3450 3153 3228 2886 \r\nQ 3006 2619 2597 2516 \r\nz\r\n\" id=\"DejaVuSans-33\" transform=\"scale(0.015625)\"/>\r\n       </defs>\r\n       <use xlink:href=\"#DejaVuSans-30\"/>\r\n       <use x=\"63.623047\" xlink:href=\"#DejaVuSans-2e\"/>\r\n       <use x=\"95.410156\" xlink:href=\"#DejaVuSans-33\"/>\r\n      </g>\r\n     </g>\r\n    </g>\r\n    <g id=\"ytick_2\">\r\n     <g id=\"line2d_8\">\r\n      <g>\r\n       <use style=\"stroke:#000000;stroke-width:0.8;\" x=\"43.78125\" xlink:href=\"#mca61fe7d7f\" y=\"194.080093\"/>\r\n      </g>\r\n     </g>\r\n     <g id=\"text_9\">\r\n      <!-- 0.4 -->\r\n      <g transform=\"translate(20.878125 197.879311)scale(0.1 -0.1)\">\r\n       <defs>\r\n        <path d=\"M 2419 4116 \r\nL 825 1625 \r\nL 2419 1625 \r\nL 2419 4116 \r\nz\r\nM 2253 4666 \r\nL 3047 4666 \r\nL 3047 1625 \r\nL 3713 1625 \r\nL 3713 1100 \r\nL 3047 1100 \r\nL 3047 0 \r\nL 2419 0 \r\nL 2419 1100 \r\nL 313 1100 \r\nL 313 1709 \r\nL 2253 4666 \r\nz\r\n\" id=\"DejaVuSans-34\" transform=\"scale(0.015625)\"/>\r\n       </defs>\r\n       <use xlink:href=\"#DejaVuSans-30\"/>\r\n       <use x=\"63.623047\" xlink:href=\"#DejaVuSans-2e\"/>\r\n       <use x=\"95.410156\" xlink:href=\"#DejaVuSans-34\"/>\r\n      </g>\r\n     </g>\r\n    </g>\r\n    <g id=\"ytick_3\">\r\n     <g id=\"line2d_9\">\r\n      <g>\r\n       <use style=\"stroke:#000000;stroke-width:0.8;\" x=\"43.78125\" xlink:href=\"#mca61fe7d7f\" y=\"167.05167\"/>\r\n      </g>\r\n     </g>\r\n     <g id=\"text_10\">\r\n      <!-- 0.5 -->\r\n      <g transform=\"translate(20.878125 170.850888)scale(0.1 -0.1)\">\r\n       <use xlink:href=\"#DejaVuSans-30\"/>\r\n       <use x=\"63.623047\" xlink:href=\"#DejaVuSans-2e\"/>\r\n       <use x=\"95.410156\" xlink:href=\"#DejaVuSans-35\"/>\r\n      </g>\r\n     </g>\r\n    </g>\r\n    <g id=\"ytick_4\">\r\n     <g id=\"line2d_10\">\r\n      <g>\r\n       <use style=\"stroke:#000000;stroke-width:0.8;\" x=\"43.78125\" xlink:href=\"#mca61fe7d7f\" y=\"140.023247\"/>\r\n      </g>\r\n     </g>\r\n     <g id=\"text_11\">\r\n      <!-- 0.6 -->\r\n      <g transform=\"translate(20.878125 143.822465)scale(0.1 -0.1)\">\r\n       <defs>\r\n        <path d=\"M 2113 2584 \r\nQ 1688 2584 1439 2293 \r\nQ 1191 2003 1191 1497 \r\nQ 1191 994 1439 701 \r\nQ 1688 409 2113 409 \r\nQ 2538 409 2786 701 \r\nQ 3034 994 3034 1497 \r\nQ 3034 2003 2786 2293 \r\nQ 2538 2584 2113 2584 \r\nz\r\nM 3366 4563 \r\nL 3366 3988 \r\nQ 3128 4100 2886 4159 \r\nQ 2644 4219 2406 4219 \r\nQ 1781 4219 1451 3797 \r\nQ 1122 3375 1075 2522 \r\nQ 1259 2794 1537 2939 \r\nQ 1816 3084 2150 3084 \r\nQ 2853 3084 3261 2657 \r\nQ 3669 2231 3669 1497 \r\nQ 3669 778 3244 343 \r\nQ 2819 -91 2113 -91 \r\nQ 1303 -91 875 529 \r\nQ 447 1150 447 2328 \r\nQ 447 3434 972 4092 \r\nQ 1497 4750 2381 4750 \r\nQ 2619 4750 2861 4703 \r\nQ 3103 4656 3366 4563 \r\nz\r\n\" id=\"DejaVuSans-36\" transform=\"scale(0.015625)\"/>\r\n       </defs>\r\n       <use xlink:href=\"#DejaVuSans-30\"/>\r\n       <use x=\"63.623047\" xlink:href=\"#DejaVuSans-2e\"/>\r\n       <use x=\"95.410156\" xlink:href=\"#DejaVuSans-36\"/>\r\n      </g>\r\n     </g>\r\n    </g>\r\n    <g id=\"ytick_5\">\r\n     <g id=\"line2d_11\">\r\n      <g>\r\n       <use style=\"stroke:#000000;stroke-width:0.8;\" x=\"43.78125\" xlink:href=\"#mca61fe7d7f\" y=\"112.994824\"/>\r\n      </g>\r\n     </g>\r\n     <g id=\"text_12\">\r\n      <!-- 0.7 -->\r\n      <g transform=\"translate(20.878125 116.794042)scale(0.1 -0.1)\">\r\n       <defs>\r\n        <path d=\"M 525 4666 \r\nL 3525 4666 \r\nL 3525 4397 \r\nL 1831 0 \r\nL 1172 0 \r\nL 2766 4134 \r\nL 525 4134 \r\nL 525 4666 \r\nz\r\n\" id=\"DejaVuSans-37\" transform=\"scale(0.015625)\"/>\r\n       </defs>\r\n       <use xlink:href=\"#DejaVuSans-30\"/>\r\n       <use x=\"63.623047\" xlink:href=\"#DejaVuSans-2e\"/>\r\n       <use x=\"95.410156\" xlink:href=\"#DejaVuSans-37\"/>\r\n      </g>\r\n     </g>\r\n    </g>\r\n    <g id=\"ytick_6\">\r\n     <g id=\"line2d_12\">\r\n      <g>\r\n       <use style=\"stroke:#000000;stroke-width:0.8;\" x=\"43.78125\" xlink:href=\"#mca61fe7d7f\" y=\"85.966401\"/>\r\n      </g>\r\n     </g>\r\n     <g id=\"text_13\">\r\n      <!-- 0.8 -->\r\n      <g transform=\"translate(20.878125 89.765619)scale(0.1 -0.1)\">\r\n       <defs>\r\n        <path d=\"M 2034 2216 \r\nQ 1584 2216 1326 1975 \r\nQ 1069 1734 1069 1313 \r\nQ 1069 891 1326 650 \r\nQ 1584 409 2034 409 \r\nQ 2484 409 2743 651 \r\nQ 3003 894 3003 1313 \r\nQ 3003 1734 2745 1975 \r\nQ 2488 2216 2034 2216 \r\nz\r\nM 1403 2484 \r\nQ 997 2584 770 2862 \r\nQ 544 3141 544 3541 \r\nQ 544 4100 942 4425 \r\nQ 1341 4750 2034 4750 \r\nQ 2731 4750 3128 4425 \r\nQ 3525 4100 3525 3541 \r\nQ 3525 3141 3298 2862 \r\nQ 3072 2584 2669 2484 \r\nQ 3125 2378 3379 2068 \r\nQ 3634 1759 3634 1313 \r\nQ 3634 634 3220 271 \r\nQ 2806 -91 2034 -91 \r\nQ 1263 -91 848 271 \r\nQ 434 634 434 1313 \r\nQ 434 1759 690 2068 \r\nQ 947 2378 1403 2484 \r\nz\r\nM 1172 3481 \r\nQ 1172 3119 1398 2916 \r\nQ 1625 2713 2034 2713 \r\nQ 2441 2713 2670 2916 \r\nQ 2900 3119 2900 3481 \r\nQ 2900 3844 2670 4047 \r\nQ 2441 4250 2034 4250 \r\nQ 1625 4250 1398 4047 \r\nQ 1172 3844 1172 3481 \r\nz\r\n\" id=\"DejaVuSans-38\" transform=\"scale(0.015625)\"/>\r\n       </defs>\r\n       <use xlink:href=\"#DejaVuSans-30\"/>\r\n       <use x=\"63.623047\" xlink:href=\"#DejaVuSans-2e\"/>\r\n       <use x=\"95.410156\" xlink:href=\"#DejaVuSans-38\"/>\r\n      </g>\r\n     </g>\r\n    </g>\r\n    <g id=\"ytick_7\">\r\n     <g id=\"line2d_13\">\r\n      <g>\r\n       <use style=\"stroke:#000000;stroke-width:0.8;\" x=\"43.78125\" xlink:href=\"#mca61fe7d7f\" y=\"58.937978\"/>\r\n      </g>\r\n     </g>\r\n     <g id=\"text_14\">\r\n      <!-- 0.9 -->\r\n      <g transform=\"translate(20.878125 62.737196)scale(0.1 -0.1)\">\r\n       <defs>\r\n        <path d=\"M 703 97 \r\nL 703 672 \r\nQ 941 559 1184 500 \r\nQ 1428 441 1663 441 \r\nQ 2288 441 2617 861 \r\nQ 2947 1281 2994 2138 \r\nQ 2813 1869 2534 1725 \r\nQ 2256 1581 1919 1581 \r\nQ 1219 1581 811 2004 \r\nQ 403 2428 403 3163 \r\nQ 403 3881 828 4315 \r\nQ 1253 4750 1959 4750 \r\nQ 2769 4750 3195 4129 \r\nQ 3622 3509 3622 2328 \r\nQ 3622 1225 3098 567 \r\nQ 2575 -91 1691 -91 \r\nQ 1453 -91 1209 -44 \r\nQ 966 3 703 97 \r\nz\r\nM 1959 2075 \r\nQ 2384 2075 2632 2365 \r\nQ 2881 2656 2881 3163 \r\nQ 2881 3666 2632 3958 \r\nQ 2384 4250 1959 4250 \r\nQ 1534 4250 1286 3958 \r\nQ 1038 3666 1038 3163 \r\nQ 1038 2656 1286 2365 \r\nQ 1534 2075 1959 2075 \r\nz\r\n\" id=\"DejaVuSans-39\" transform=\"scale(0.015625)\"/>\r\n       </defs>\r\n       <use xlink:href=\"#DejaVuSans-30\"/>\r\n       <use x=\"63.623047\" xlink:href=\"#DejaVuSans-2e\"/>\r\n       <use x=\"95.410156\" xlink:href=\"#DejaVuSans-39\"/>\r\n      </g>\r\n     </g>\r\n    </g>\r\n    <g id=\"ytick_8\">\r\n     <g id=\"line2d_14\">\r\n      <g>\r\n       <use style=\"stroke:#000000;stroke-width:0.8;\" x=\"43.78125\" xlink:href=\"#mca61fe7d7f\" y=\"31.909555\"/>\r\n      </g>\r\n     </g>\r\n     <g id=\"text_15\">\r\n      <!-- 1.0 -->\r\n      <g transform=\"translate(20.878125 35.708773)scale(0.1 -0.1)\">\r\n       <use xlink:href=\"#DejaVuSans-31\"/>\r\n       <use x=\"63.623047\" xlink:href=\"#DejaVuSans-2e\"/>\r\n       <use x=\"95.410156\" xlink:href=\"#DejaVuSans-30\"/>\r\n      </g>\r\n     </g>\r\n    </g>\r\n    <g id=\"text_16\">\r\n     <!-- Accuracy -->\r\n     <g transform=\"translate(14.798438 153.86625)rotate(-90)scale(0.1 -0.1)\">\r\n      <defs>\r\n       <path d=\"M 2188 4044 \r\nL 1331 1722 \r\nL 3047 1722 \r\nL 2188 4044 \r\nz\r\nM 1831 4666 \r\nL 2547 4666 \r\nL 4325 0 \r\nL 3669 0 \r\nL 3244 1197 \r\nL 1141 1197 \r\nL 716 0 \r\nL 50 0 \r\nL 1831 4666 \r\nz\r\n\" id=\"DejaVuSans-41\" transform=\"scale(0.015625)\"/>\r\n       <path d=\"M 544 1381 \r\nL 544 3500 \r\nL 1119 3500 \r\nL 1119 1403 \r\nQ 1119 906 1312 657 \r\nQ 1506 409 1894 409 \r\nQ 2359 409 2629 706 \r\nQ 2900 1003 2900 1516 \r\nL 2900 3500 \r\nL 3475 3500 \r\nL 3475 0 \r\nL 2900 0 \r\nL 2900 538 \r\nQ 2691 219 2414 64 \r\nQ 2138 -91 1772 -91 \r\nQ 1169 -91 856 284 \r\nQ 544 659 544 1381 \r\nz\r\nM 1991 3584 \r\nL 1991 3584 \r\nz\r\n\" id=\"DejaVuSans-75\" transform=\"scale(0.015625)\"/>\r\n       <path d=\"M 2631 2963 \r\nQ 2534 3019 2420 3045 \r\nQ 2306 3072 2169 3072 \r\nQ 1681 3072 1420 2755 \r\nQ 1159 2438 1159 1844 \r\nL 1159 0 \r\nL 581 0 \r\nL 581 3500 \r\nL 1159 3500 \r\nL 1159 2956 \r\nQ 1341 3275 1631 3429 \r\nQ 1922 3584 2338 3584 \r\nQ 2397 3584 2469 3576 \r\nQ 2541 3569 2628 3553 \r\nL 2631 2963 \r\nz\r\n\" id=\"DejaVuSans-72\" transform=\"scale(0.015625)\"/>\r\n       <path d=\"M 2194 1759 \r\nQ 1497 1759 1228 1600 \r\nQ 959 1441 959 1056 \r\nQ 959 750 1161 570 \r\nQ 1363 391 1709 391 \r\nQ 2188 391 2477 730 \r\nQ 2766 1069 2766 1631 \r\nL 2766 1759 \r\nL 2194 1759 \r\nz\r\nM 3341 1997 \r\nL 3341 0 \r\nL 2766 0 \r\nL 2766 531 \r\nQ 2569 213 2275 61 \r\nQ 1981 -91 1556 -91 \r\nQ 1019 -91 701 211 \r\nQ 384 513 384 1019 \r\nQ 384 1609 779 1909 \r\nQ 1175 2209 1959 2209 \r\nL 2766 2209 \r\nL 2766 2266 \r\nQ 2766 2663 2505 2880 \r\nQ 2244 3097 1772 3097 \r\nQ 1472 3097 1187 3025 \r\nQ 903 2953 641 2809 \r\nL 641 3341 \r\nQ 956 3463 1253 3523 \r\nQ 1550 3584 1831 3584 \r\nQ 2591 3584 2966 3190 \r\nQ 3341 2797 3341 1997 \r\nz\r\n\" id=\"DejaVuSans-61\" transform=\"scale(0.015625)\"/>\r\n       <path d=\"M 2059 -325 \r\nQ 1816 -950 1584 -1140 \r\nQ 1353 -1331 966 -1331 \r\nL 506 -1331 \r\nL 506 -850 \r\nL 844 -850 \r\nQ 1081 -850 1212 -737 \r\nQ 1344 -625 1503 -206 \r\nL 1606 56 \r\nL 191 3500 \r\nL 800 3500 \r\nL 1894 763 \r\nL 2988 3500 \r\nL 3597 3500 \r\nL 2059 -325 \r\nz\r\n\" id=\"DejaVuSans-79\" transform=\"scale(0.015625)\"/>\r\n      </defs>\r\n      <use xlink:href=\"#DejaVuSans-41\"/>\r\n      <use x=\"66.658203\" xlink:href=\"#DejaVuSans-63\"/>\r\n      <use x=\"121.638672\" xlink:href=\"#DejaVuSans-63\"/>\r\n      <use x=\"176.619141\" xlink:href=\"#DejaVuSans-75\"/>\r\n      <use x=\"239.998047\" xlink:href=\"#DejaVuSans-72\"/>\r\n      <use x=\"281.111328\" xlink:href=\"#DejaVuSans-61\"/>\r\n      <use x=\"342.390625\" xlink:href=\"#DejaVuSans-63\"/>\r\n      <use x=\"397.371094\" xlink:href=\"#DejaVuSans-79\"/>\r\n     </g>\r\n    </g>\r\n   </g>\r\n   <g id=\"line2d_15\">\r\n    <path clip-path=\"url(#paec2d9ae6a)\" d=\"M 58.999432 229.874489 \r\nL 60.221776 225.637604 \r\nL 61.44412 217.30993 \r\nL 63.888808 198.024785 \r\nL 66.333495 173.626152 \r\nL 67.555839 163.106975 \r\nL 70.000527 144.698435 \r\nL 71.222871 140.02324 \r\nL 72.445215 133.88706 \r\nL 73.667559 128.627484 \r\nL 74.889903 121.6147 \r\nL 76.112247 118.254403 \r\nL 77.334591 113.14093 \r\nL 78.556935 109.050133 \r\nL 79.779278 105.982043 \r\nL 81.001622 100.284156 \r\nL 82.223966 98.384861 \r\nL 83.44631 94.732374 \r\nL 84.668654 93.125285 \r\nL 85.890998 90.933783 \r\nL 87.113342 88.011796 \r\nL 88.335686 84.213205 \r\nL 89.55803 82.167807 \r\nL 90.780374 79.099717 \r\nL 92.002718 77.054334 \r\nL 93.225062 73.986228 \r\nL 94.447406 72.525242 \r\nL 95.669749 70.04155 \r\nL 96.892093 68.726652 \r\nL 99.336781 64.489767 \r\nL 100.559125 63.467059 \r\nL 104.226157 58.937984 \r\nL 105.448501 58.207483 \r\nL 106.670845 58.06138 \r\nL 107.893189 56.600379 \r\nL 109.115533 56.454291 \r\nL 110.337877 54.99329 \r\nL 111.56022 53.970599 \r\nL 112.782564 53.532289 \r\nL 114.004908 52.21739 \r\nL 115.227252 51.632993 \r\nL 116.449596 51.779096 \r\nL 117.67194 50.756405 \r\nL 118.894284 50.172008 \r\nL 120.116628 49.295404 \r\nL 121.338972 49.58761 \r\nL 122.561316 48.272712 \r\nL 123.78366 47.980506 \r\nL 125.006004 47.250005 \r\nL 126.228347 47.250005 \r\nL 127.450691 46.665608 \r\nL 128.673035 45.642916 \r\nL 129.895379 45.78902 \r\nL 131.117723 45.35071 \r\nL 132.340067 44.766312 \r\nL 133.562411 44.474122 \r\nL 134.784755 44.328018 \r\nL 137.229443 43.743621 \r\nL 138.451787 43.159224 \r\nL 139.674131 42.867017 \r\nL 140.896475 42.28262 \r\nL 142.118818 42.428723 \r\nL 143.341162 41.844326 \r\nL 144.563506 40.967721 \r\nL 145.78585 41.406032 \r\nL 147.008194 40.967721 \r\nL 148.230538 40.821634 \r\nL 149.452882 40.821634 \r\nL 150.675226 39.65284 \r\nL 151.89757 40.675531 \r\nL 153.119914 40.237237 \r\nL 155.564602 39.068442 \r\nL 158.009289 39.068442 \r\nL 159.231633 38.922339 \r\nL 160.453977 39.360633 \r\nL 161.676321 38.484029 \r\nL 162.898665 37.753544 \r\nL 164.121009 38.484029 \r\nL 165.343353 38.776235 \r\nL 166.565697 38.337942 \r\nL 167.788041 38.337942 \r\nL 169.010385 37.899631 \r\nL 170.232729 38.337942 \r\nL 171.455073 37.899631 \r\nL 173.89976 37.607441 \r\nL 175.122104 38.045735 \r\nL 176.344448 37.753544 \r\nL 177.566792 37.753544 \r\nL 178.789136 37.607441 \r\nL 180.01148 37.899631 \r\nL 181.233824 37.315234 \r\nL 182.456168 37.023043 \r\nL 183.678512 36.87694 \r\nL 184.900856 37.169147 \r\nL 186.1232 36.730837 \r\nL 187.345544 36.87694 \r\nL 188.567887 36.584733 \r\nL 189.790231 36.87694 \r\nL 191.012575 36.292543 \r\nL 192.234919 36.584733 \r\nL 193.457263 36.730837 \r\nL 194.679607 37.023043 \r\nL 195.901951 36.146439 \r\nL 198.346639 36.438646 \r\nL 199.568983 36.146439 \r\nL 200.791327 35.562042 \r\nL 202.013671 35.708145 \r\nL 203.236015 36.584733 \r\nL 204.458358 35.708145 \r\nL 205.680702 36.000336 \r\nL 206.903046 35.562042 \r\nL 208.12539 35.708145 \r\nL 209.347734 35.415939 \r\nL 214.23711 34.831541 \r\nL 215.459454 34.831541 \r\nL 216.681798 35.415939 \r\nL 217.904142 35.269851 \r\nL 219.126485 35.269851 \r\nL 221.571173 34.685454 \r\nL 222.793517 35.123748 \r\nL 224.015861 34.831541 \r\nL 225.238205 34.831541 \r\nL 227.682893 35.123748 \r\nL 228.905237 34.685454 \r\nL 230.127581 34.539351 \r\nL 232.572269 34.831541 \r\nL 233.794613 34.831541 \r\nL 235.016956 34.393247 \r\nL 236.2393 34.101041 \r\nL 237.461644 34.247144 \r\nL 238.683988 34.539351 \r\nL 239.906332 34.393247 \r\nL 241.128676 34.977645 \r\nL 242.35102 34.393247 \r\nL 244.795708 34.393247 \r\nL 246.018052 34.539351 \r\nL 248.46274 33.954953 \r\nL 250.907427 34.247144 \r\nL 252.129771 33.954953 \r\nL 253.352115 33.80885 \r\nL 254.574459 33.80885 \r\nL 255.796803 34.101041 \r\nL 257.019147 33.80885 \r\nL 259.463835 33.80885 \r\nL 261.908523 34.101041 \r\nL 263.130867 33.954953 \r\nL 264.353211 34.247144 \r\nL 265.575554 33.954953 \r\nL 268.020242 33.662747 \r\nL 271.687274 34.101041 \r\nL 272.909618 33.370556 \r\nL 274.131962 33.80885 \r\nL 275.354306 33.954953 \r\nL 276.57665 33.662747 \r\nL 277.798994 33.516643 \r\nL 279.021338 33.954953 \r\nL 280.243682 33.662747 \r\nL 281.466025 33.80885 \r\nL 282.688369 33.80885 \r\nL 283.910713 33.954953 \r\nL 285.133057 33.516643 \r\nL 286.355401 33.516643 \r\nL 287.577745 33.80885 \r\nL 288.800089 33.224453 \r\nL 290.022433 33.516643 \r\nL 291.244777 33.370556 \r\nL 292.467121 33.370556 \r\nL 293.689465 33.80885 \r\nL 294.911809 33.662747 \r\nL 296.134153 33.224453 \r\nL 297.356496 32.932246 \r\nL 298.57884 33.224453 \r\nL 299.801184 33.370556 \r\nL 301.023528 33.078349 \r\nL 302.245872 33.224453 \r\nL 304.69056 32.932246 \r\nL 305.912904 32.932246 \r\nL 307.135248 33.078349 \r\nL 308.357592 32.786159 \r\nL 309.579936 32.786159 \r\nL 310.80228 32.640055 \r\nL 312.024623 32.932246 \r\nL 313.246967 33.078349 \r\nL 314.469311 32.786159 \r\nL 315.691655 32.786159 \r\nL 316.913999 32.640055 \r\nL 318.136343 32.786159 \r\nL 319.358687 32.786159 \r\nL 320.581031 32.493952 \r\nL 321.803375 32.932246 \r\nL 324.248063 32.640055 \r\nL 325.470407 32.640055 \r\nL 326.692751 32.786159 \r\nL 329.137438 32.786159 \r\nL 330.359782 32.493952 \r\nL 331.582126 32.347849 \r\nL 332.80447 32.640055 \r\nL 334.026814 32.493952 \r\nL 335.249158 32.201761 \r\nL 337.693846 32.493952 \r\nL 338.91619 32.786159 \r\nL 340.138534 32.347849 \r\nL 341.360878 32.347849 \r\nL 342.583222 32.640055 \r\nL 343.805565 32.347849 \r\nL 345.027909 32.347849 \r\nL 346.250253 32.640055 \r\nL 347.472597 32.347849 \r\nL 348.694941 32.347849 \r\nL 349.917285 32.640055 \r\nL 351.139629 32.347849 \r\nL 353.584317 32.640055 \r\nL 354.806661 32.347849 \r\nL 356.029005 32.493952 \r\nL 359.696036 32.493952 \r\nL 362.140724 32.201761 \r\nL 363.363068 32.347849 \r\nL 363.363068 32.347849 \r\n\" style=\"fill:none;stroke:#1f77b4;stroke-linecap:square;stroke-width:1.5;\"/>\r\n   </g>\r\n   <g id=\"patch_3\">\r\n    <path d=\"M 43.78125 239.758125 \r\nL 43.78125 22.318125 \r\n\" style=\"fill:none;stroke:#000000;stroke-linecap:square;stroke-linejoin:miter;stroke-width:0.8;\"/>\r\n   </g>\r\n   <g id=\"patch_4\">\r\n    <path d=\"M 378.58125 239.758125 \r\nL 378.58125 22.318125 \r\n\" style=\"fill:none;stroke:#000000;stroke-linecap:square;stroke-linejoin:miter;stroke-width:0.8;\"/>\r\n   </g>\r\n   <g id=\"patch_5\">\r\n    <path d=\"M 43.78125 239.758125 \r\nL 378.58125 239.758125 \r\n\" style=\"fill:none;stroke:#000000;stroke-linecap:square;stroke-linejoin:miter;stroke-width:0.8;\"/>\r\n   </g>\r\n   <g id=\"patch_6\">\r\n    <path d=\"M 43.78125 22.318125 \r\nL 378.58125 22.318125 \r\n\" style=\"fill:none;stroke:#000000;stroke-linecap:square;stroke-linejoin:miter;stroke-width:0.8;\"/>\r\n   </g>\r\n   <g id=\"text_17\">\r\n    <!-- Model accuracy -->\r\n    <g transform=\"translate(164.187187 16.318125)scale(0.12 -0.12)\">\r\n     <defs>\r\n      <path d=\"M 628 4666 \r\nL 1569 4666 \r\nL 2759 1491 \r\nL 3956 4666 \r\nL 4897 4666 \r\nL 4897 0 \r\nL 4281 0 \r\nL 4281 4097 \r\nL 3078 897 \r\nL 2444 897 \r\nL 1241 4097 \r\nL 1241 0 \r\nL 628 0 \r\nL 628 4666 \r\nz\r\n\" id=\"DejaVuSans-4d\" transform=\"scale(0.015625)\"/>\r\n      <path d=\"M 2906 2969 \r\nL 2906 4863 \r\nL 3481 4863 \r\nL 3481 0 \r\nL 2906 0 \r\nL 2906 525 \r\nQ 2725 213 2448 61 \r\nQ 2172 -91 1784 -91 \r\nQ 1150 -91 751 415 \r\nQ 353 922 353 1747 \r\nQ 353 2572 751 3078 \r\nQ 1150 3584 1784 3584 \r\nQ 2172 3584 2448 3432 \r\nQ 2725 3281 2906 2969 \r\nz\r\nM 947 1747 \r\nQ 947 1113 1208 752 \r\nQ 1469 391 1925 391 \r\nQ 2381 391 2643 752 \r\nQ 2906 1113 2906 1747 \r\nQ 2906 2381 2643 2742 \r\nQ 2381 3103 1925 3103 \r\nQ 1469 3103 1208 2742 \r\nQ 947 2381 947 1747 \r\nz\r\n\" id=\"DejaVuSans-64\" transform=\"scale(0.015625)\"/>\r\n      <path d=\"M 3597 1894 \r\nL 3597 1613 \r\nL 953 1613 \r\nQ 991 1019 1311 708 \r\nQ 1631 397 2203 397 \r\nQ 2534 397 2845 478 \r\nQ 3156 559 3463 722 \r\nL 3463 178 \r\nQ 3153 47 2828 -22 \r\nQ 2503 -91 2169 -91 \r\nQ 1331 -91 842 396 \r\nQ 353 884 353 1716 \r\nQ 353 2575 817 3079 \r\nQ 1281 3584 2069 3584 \r\nQ 2775 3584 3186 3129 \r\nQ 3597 2675 3597 1894 \r\nz\r\nM 3022 2063 \r\nQ 3016 2534 2758 2815 \r\nQ 2500 3097 2075 3097 \r\nQ 1594 3097 1305 2825 \r\nQ 1016 2553 972 2059 \r\nL 3022 2063 \r\nz\r\n\" id=\"DejaVuSans-65\" transform=\"scale(0.015625)\"/>\r\n      <path d=\"M 603 4863 \r\nL 1178 4863 \r\nL 1178 0 \r\nL 603 0 \r\nL 603 4863 \r\nz\r\n\" id=\"DejaVuSans-6c\" transform=\"scale(0.015625)\"/>\r\n      <path id=\"DejaVuSans-20\" transform=\"scale(0.015625)\"/>\r\n     </defs>\r\n     <use xlink:href=\"#DejaVuSans-4d\"/>\r\n     <use x=\"86.279297\" xlink:href=\"#DejaVuSans-6f\"/>\r\n     <use x=\"147.460938\" xlink:href=\"#DejaVuSans-64\"/>\r\n     <use x=\"210.9375\" xlink:href=\"#DejaVuSans-65\"/>\r\n     <use x=\"272.460938\" xlink:href=\"#DejaVuSans-6c\"/>\r\n     <use x=\"300.244141\" xlink:href=\"#DejaVuSans-20\"/>\r\n     <use x=\"332.03125\" xlink:href=\"#DejaVuSans-61\"/>\r\n     <use x=\"393.310547\" xlink:href=\"#DejaVuSans-63\"/>\r\n     <use x=\"448.291016\" xlink:href=\"#DejaVuSans-63\"/>\r\n     <use x=\"503.271484\" xlink:href=\"#DejaVuSans-75\"/>\r\n     <use x=\"566.650391\" xlink:href=\"#DejaVuSans-72\"/>\r\n     <use x=\"607.763672\" xlink:href=\"#DejaVuSans-61\"/>\r\n     <use x=\"669.042969\" xlink:href=\"#DejaVuSans-63\"/>\r\n     <use x=\"724.023438\" xlink:href=\"#DejaVuSans-79\"/>\r\n    </g>\r\n   </g>\r\n   <g id=\"legend_1\">\r\n    <g id=\"patch_7\">\r\n     <path d=\"M 50.78125 44.99625 \r\nL 106.76875 44.99625 \r\nQ 108.76875 44.99625 108.76875 42.99625 \r\nL 108.76875 29.318125 \r\nQ 108.76875 27.318125 106.76875 27.318125 \r\nL 50.78125 27.318125 \r\nQ 48.78125 27.318125 48.78125 29.318125 \r\nL 48.78125 42.99625 \r\nQ 48.78125 44.99625 50.78125 44.99625 \r\nz\r\n\" style=\"fill:#ffffff;opacity:0.8;stroke:#cccccc;stroke-linejoin:miter;\"/>\r\n    </g>\r\n    <g id=\"line2d_16\">\r\n     <path d=\"M 52.78125 35.416562 \r\nL 72.78125 35.416562 \r\n\" style=\"fill:none;stroke:#1f77b4;stroke-linecap:square;stroke-width:1.5;\"/>\r\n    </g>\r\n    <g id=\"line2d_17\"/>\r\n    <g id=\"text_18\">\r\n     <!-- Train -->\r\n     <g transform=\"translate(80.78125 38.916562)scale(0.1 -0.1)\">\r\n      <defs>\r\n       <path d=\"M -19 4666 \r\nL 3928 4666 \r\nL 3928 4134 \r\nL 2272 4134 \r\nL 2272 0 \r\nL 1638 0 \r\nL 1638 4134 \r\nL -19 4134 \r\nL -19 4666 \r\nz\r\n\" id=\"DejaVuSans-54\" transform=\"scale(0.015625)\"/>\r\n       <path d=\"M 603 3500 \r\nL 1178 3500 \r\nL 1178 0 \r\nL 603 0 \r\nL 603 3500 \r\nz\r\nM 603 4863 \r\nL 1178 4863 \r\nL 1178 4134 \r\nL 603 4134 \r\nL 603 4863 \r\nz\r\n\" id=\"DejaVuSans-69\" transform=\"scale(0.015625)\"/>\r\n       <path d=\"M 3513 2113 \r\nL 3513 0 \r\nL 2938 0 \r\nL 2938 2094 \r\nQ 2938 2591 2744 2837 \r\nQ 2550 3084 2163 3084 \r\nQ 1697 3084 1428 2787 \r\nQ 1159 2491 1159 1978 \r\nL 1159 0 \r\nL 581 0 \r\nL 581 3500 \r\nL 1159 3500 \r\nL 1159 2956 \r\nQ 1366 3272 1645 3428 \r\nQ 1925 3584 2291 3584 \r\nQ 2894 3584 3203 3211 \r\nQ 3513 2838 3513 2113 \r\nz\r\n\" id=\"DejaVuSans-6e\" transform=\"scale(0.015625)\"/>\r\n      </defs>\r\n      <use xlink:href=\"#DejaVuSans-54\"/>\r\n      <use x=\"46.333984\" xlink:href=\"#DejaVuSans-72\"/>\r\n      <use x=\"87.447266\" xlink:href=\"#DejaVuSans-61\"/>\r\n      <use x=\"148.726562\" xlink:href=\"#DejaVuSans-69\"/>\r\n      <use x=\"176.509766\" xlink:href=\"#DejaVuSans-6e\"/>\r\n     </g>\r\n    </g>\r\n   </g>\r\n  </g>\r\n </g>\r\n <defs>\r\n  <clipPath id=\"paec2d9ae6a\">\r\n   <rect height=\"217.44\" width=\"334.8\" x=\"43.78125\" y=\"22.318125\"/>\r\n  </clipPath>\r\n </defs>\r\n</svg>\r\n",
            "image/png": "[encoded data removed]"
          },
          "metadata": {
            "needs_background": "light"
          }
        }
      ]
    },
    {
      "cell_type": "markdown",
      "metadata": {
        "id": "6DX-xeSZaaqQ"
      },
      "source": [
        "Let's now check the performance of our trained model on the test data. For that, we need first to preprocess the test set as we did with the training set."
      ]
    },
    {
      "cell_type": "code",
      "metadata": {
        "id": "bo50ui-7dFdA"
      },
      "source": [
        "dataset_test_noheader=dataset_file_test[1:]\n",
        "random.shuffle(dataset_test_noheader)\n",
        "\n",
        "len_dataset_test=len(dataset_test_noheader) # Number of instances in the test set\n",
        "num_features_test=len(dataset_test_noheader[1].split(\",\"))-1 # Number of features in the test set (should be the same as the training set)\n",
        "print (\"The test set has \"+str(len_dataset_test)+\" instances and \"+str(num_features_test)+\" features per instance\")\n",
        "\n",
        "X_test=np.zeros((len_dataset_test,num_features_test)) # Initialization of the feature array of the test set\n",
        "Y_test=np.zeros((len_dataset_test,1)) # Initialization of the label array of the test set\n",
        "for i,line in enumerate(dataset_test_noheader):\n",
        "  linesplit=line.strip().split(\",\")\n",
        "  for j,feature in enumerate(linesplit[:-1]):\n",
        "    X_test[i,j]=float(feature)\n",
        "  Y_test[i,0]=int(linesplit[-1])\n",
        "print (\"Test set has now been loaded into a numpy matrix\")\n",
        "X_test_norm = sc.transform(X_test) # Finally, we normalized the features of the test set using our previously defined sc function.\n",
        "Y_test_onehot = ohe.transform(Y_test).toarray() # We also transform the labels in the test set into the same one-hot vectors."
      ],
      "execution_count": 17,
      "outputs": [
        {
          "output_type": "stream",
          "name": "stdout",
          "text": [
            "The test set has 150 instances and 20 features per instance\nTest set has now been loaded into a numpy matrix\n"
          ]
        }
      ]
    },
    {
      "cell_type": "markdown",
      "metadata": {
        "id": "5CR273IQaatM"
      },
      "source": [
        "**Excercise (optional):** Define a function for: given a dataset with the same format as the mobine phone dataset as input, return the `X_train` and `Y_train` arrays used to trained our model. "
      ]
    },
    {
      "cell_type": "markdown",
      "metadata": {
        "id": "ntOEosJPaaxF"
      },
      "source": [
        "Then, once having the test set preprocessed, we can finally test our model. For this we can use the `.predict` function."
      ]
    },
    {
      "cell_type": "code",
      "metadata": {
        "id": "Ks38LSdheuH-"
      },
      "source": [
        "Y_pred = model.predict(X_test_norm)\n",
        "preds = list()\n",
        "for i in range(len(Y_pred)):\n",
        "    preds.append(np.argmax(Y_pred[i])) #This serves to convert the hot encoded test label vectors to labels\n",
        "Y_test_gold = list()\n",
        "for i in range(len(Y_test_onehot)):\n",
        "    Y_test_gold.append(np.argmax(Y_test_onehot[i]))"
      ],
      "execution_count": 18,
      "outputs": []
    },
    {
      "cell_type": "markdown",
      "metadata": {
        "id": "nQN9_7gfA-sc"
      },
      "source": [
        "Let's now get the accuracy performance on the test set."
      ]
    },
    {
      "cell_type": "code",
      "metadata": {
        "id": "SJ2Y7LxxBBgW"
      },
      "source": [
        "from sklearn.metrics import accuracy_score"
      ],
      "execution_count": 19,
      "outputs": []
    },
    {
      "cell_type": "code",
      "metadata": {
        "id": "m2iOXa6_BCi6"
      },
      "source": [
        "accuracy_test = accuracy_score(preds,Y_test_gold)\n",
        "print('The accuracy in the test set is: '+str(round(accuracy_test,3)))"
      ],
      "execution_count": 20,
      "outputs": [
        {
          "output_type": "stream",
          "name": "stdout",
          "text": [
            "The accuracy in the test set is: 0.967\n"
          ]
        }
      ]
    },
    {
      "cell_type": "markdown",
      "metadata": {
        "id": "IGhLHgI4gCPW"
      },
      "source": [
        "**Excercise 1:** Build another neural network using Keras, in this case with two hidden layers of 15 and 10 dimensions each and trained on 100 epochs. Train your model and get the output result in the test set."
      ]
    },
    {
      "cell_type": "code",
      "metadata": {
        "id": "usK2GEuhdyLf"
      },
      "source": [
        "model_2 = Sequential() # To complete...\n"
      ],
      "execution_count": 21,
      "outputs": []
    },
    {
      "cell_type": "markdown",
      "metadata": {
        "id": "Nco3Q5yPYskA"
      },
      "source": [
        "**Exercise (optional):** Implement the same model but using a development set (you can split the training set into training and development for example). Then, use this development set to check the best performance per epoch and get the result of the model resulting from training until the best performing epoch. More details on how to do that can be found in the reference [blog post](https://towardsdatascience.com/building-our-first-neural-network-in-keras-bdc8abbc17f5). "
      ]
    }
  ]
}