{
 "metadata": {
  "language_info": {
   "codemirror_mode": {
    "name": "ipython",
    "version": 3
   },
   "file_extension": ".py",
   "mimetype": "text/x-python",
   "name": "python",
   "nbconvert_exporter": "python",
   "pygments_lexer": "ipython3",
   "version": "3.8.6-final"
  },
  "orig_nbformat": 2,
  "kernelspec": {
   "name": "python3",
   "display_name": "Python 3.8.6 64-bit",
   "metadata": {
    "interpreter": {
     "hash": "2a5068d00c7e668f630311d69b177f3bf5e34ccc777378605e74da0c3f384e51"
    }
   }
  }
 },
 "nbformat": 4,
 "nbformat_minor": 2,
 "cells": [
  {
   "cell_type": "code",
   "execution_count": 145,
   "metadata": {},
   "outputs": [],
   "source": [
    "import numpy as np\n",
    "from random import shuffle\n",
    "from sklearn import svm\n",
    "from sklearn.pipeline import make_pipeline\n",
    "from sklearn.preprocessing import StandardScaler\n",
    "from sklearn.metrics import classification_report\n",
    "from sklearn.metrics import mean_squared_error\n"
   ]
  },
  {
   "cell_type": "code",
   "execution_count": 146,
   "metadata": {},
   "outputs": [],
   "source": [
    "def get_data(path):\n",
    "    data = []\n",
    "    with open(path, \"r\") as fp:\n",
    "        for line in fp.read().splitlines()[1:]:\n",
    "            line = [float(i) for i in line.split(\",\")]\n",
    "            if line[-1] > 30:\n",
    "                line[-1] = 0\n",
    "            else:\n",
    "                line[-1] = 1\n",
    "            data.append([line[:-1], line[-1]])\n",
    "    shuffle(data)\n",
    "    return data\n",
    "\n",
    "training_data = get_data(\"./real-state/train_full_Real-estate.csv\")\n",
    "testing_data = get_data(\"./real-state/train_full_Real-estate.csv\")\n",
    "train_x = [value[0] for value in training_data]\n",
    "train_y = [value[1] for value in training_data]"
   ]
  },
  {
   "cell_type": "code",
   "execution_count": 147,
   "metadata": {
    "tags": []
   },
   "outputs": [],
   "source": [
    "\n",
    "\n",
    "svm_clf=make_pipeline(StandardScaler(), svm.SVC(cache_size=2000, kernel='poly', degree=3, C=100, gamma=0.1)).fit(train_x, train_y)"
   ]
  },
  {
   "cell_type": "code",
   "execution_count": 148,
   "metadata": {},
   "outputs": [
    {
     "output_type": "stream",
     "name": "stdout",
     "text": [
      "              precision    recall  f1-score   support\n\n           0       0.96      0.99      0.97       207\n           1       0.98      0.90      0.94        94\n\n    accuracy                           0.96       301\n   macro avg       0.97      0.95      0.96       301\nweighted avg       0.96      0.96      0.96       301\n\n"
     ]
    }
   ],
   "source": [
    "\n",
    "\n",
    "Y_test_gold = [value[1] for value in testing_data]\n",
    "Y_text_predictions = svm_clf.predict([value[0] for value in testing_data])\n",
    "\n",
    "print(classification_report(Y_test_gold, Y_text_predictions))"
   ]
  }
 ]
}