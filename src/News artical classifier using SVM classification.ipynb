{
 "cells": [
  {
   "cell_type": "markdown",
   "metadata": {},
   "source": [
    "We begin by making appropriate imports as well as loading the data needed for NLTK and Spacy."
   ]
  },
  {
   "cell_type": "code",
   "execution_count": 54,
   "metadata": {},
   "outputs": [],
   "source": [
    "import math\n",
    "import os\n",
    "import random\n",
    "\n",
    "from pprint import pprint\n",
    "from typing import List, Dict\n",
    "\n",
    "import nltk\n",
    "import numpy as np\n",
    "import spacy\n",
    "# Download the required dataset from NLTK\n",
    "nltk.download(\"stopwords\", quiet=True)\n",
    "\n",
    "from nltk.corpus import stopwords\n",
    "from sklearn import preprocessing, svm\n",
    "from sklearn.feature_extraction.text import CountVectorizer, TfidfTransformer\n",
    "from sklearn.feature_selection import SelectKBest, chi2\n",
    "from sklearn.metrics import classification_report\n",
    "from sklearn.pipeline import make_pipeline\n",
    "from sklearn.preprocessing import StandardScaler\n",
    "from tqdm.notebook import tqdm\n",
    "\n",
    "# If this fails, please run `python -m spacy download en_core_web_sm`\n",
    "nlp = spacy.load(\"en_core_web_sm\")"
   ]
  },
  {
   "cell_type": "markdown",
   "metadata": {},
   "source": [
    "Two functions can then be defined to load the data from the text files to memory"
   ]
  },
  {
   "cell_type": "code",
   "execution_count": 55,
   "metadata": {},
   "outputs": [],
   "source": [
    "def load_corpus(folder: str) -> List[str]:\n",
    "    \"\"\"Load strings from folder of text\n",
    "\n",
    "    Args:\n",
    "        folder (str): The path to the folder to load\n",
    "\n",
    "    Returns:\n",
    "        List[str]: List of strings retrieved from text files in the folder\n",
    "    \"\"\"\n",
    "    corpus = []\n",
    "    for root, dirs, files in os.walk(folder, topdown=False):\n",
    "        for name in files:\n",
    "            try:\n",
    "                with open(os.path.join(root, name), \"r\") as fp:\n",
    "                    corpus.append(fp.read())\n",
    "            except UnicodeDecodeError as e:\n",
    "                ... # Let the error pass silently\n",
    "                # print(e.__str__(), \"for\", os.path.join(root, name))\n",
    "    return corpus\n",
    "\n",
    "def load_corpuses(folder: str) -> Dict[str, List[str]]:\n",
    "    \"\"\"Load corpuses from sub-folders of specified folder\n",
    "\n",
    "    Args:\n",
    "        folder (str): The parent folder\n",
    "\n",
    "    Returns:\n",
    "        Dict[str, List[str]]: Dictionary of corpuses\n",
    "    \"\"\"\n",
    "    sub_folders = []\n",
    "    for root, dirs, files in os.walk(folder):\n",
    "        if dirs:\n",
    "            for dir_ in dirs:\n",
    "                sub_folders.append(dir_)\n",
    "\n",
    "    corpuses = {}\n",
    "    for sub_folder in sub_folders:\n",
    "        corpuses[sub_folder] = load_corpus(os.path.join(folder, sub_folder))\n",
    "    return corpuses"
   ]
  },
  {
   "cell_type": "markdown",
   "metadata": {},
   "source": [
    "We then build our dataset using these corpuses. The $x$ vector is made from three features:\n",
    "- Word frequencies\n",
    "- Frequency of named entity types\n",
    "- Weighted word frequencies\n",
    "\n",
    "Once constructed, the data set is shuffled."
   ]
  },
  {
   "cell_type": "code",
   "execution_count": 56,
   "metadata": {},
   "outputs": [],
   "source": [
    "x = []\n",
    "y =[]\n",
    "\n",
    "corpuses = load_corpuses(\"bbc\")\n",
    "\n",
    "for corpus in corpuses:\n",
    "    for story in corpuses[corpus]:\n",
    "        x.append(story)\n",
    "        y.append(corpus)\n",
    "c = list(zip(x, y))\n",
    "\n",
    "random.shuffle(c)\n",
    "\n",
    "x, y = zip(*c)"
   ]
  },
  {
   "cell_type": "markdown",
   "metadata": {},
   "source": [
    "Test and training data are then sampled using a 20:80 split respectively. The $Y$ values are then encoded so that they can be used as labels within the SVM."
   ]
  },
  {
   "cell_type": "code",
   "execution_count": 57,
   "metadata": {},
   "outputs": [],
   "source": [
    "size_dataset_full=len(x)\n",
    "size_test=int(round(size_dataset_full*0.2,0))\n",
    "\n",
    "list_test_indices=random.sample(range(size_dataset_full), size_test)\n",
    "\n",
    "test_x = []\n",
    "test_y = []\n",
    "train_x = []\n",
    "train_y = []\n",
    "\n",
    "for i,example in enumerate(x):\n",
    "    if i in list_test_indices:\n",
    "        test_x.append(example)\n",
    "        test_y.append(y[i])\n",
    "    else:\n",
    "        train_x.append(example)\n",
    "        train_y.append(y[i])\n",
    "\n",
    "le = preprocessing.LabelEncoder()\n",
    "le.fit(train_y)\n",
    "train_y = le.transform(train_y)\n",
    "test_y = le.transform(test_y)"
   ]
  },
  {
   "cell_type": "code",
   "execution_count": 58,
   "metadata": {},
   "outputs": [],
   "source": [
    "def feature_extraction(stories: List[str]) -> List[List[int]]:\n",
    "    \"\"\"Extracts features from a list of strings\n",
    "\n",
    "    Args:\n",
    "        stories (List[str]): Strings to extract features from\n",
    "\n",
    "    Returns:\n",
    "        List[List[int]]: List of vectors which can be used in a model\n",
    "    \"\"\"\n",
    "    entity_types = CountVectorizer(stop_words=stopwords.words('english'))\n",
    "    entity_types.fit(['CARDINAL', 'PERSON', 'GPE', 'MONEY', 'ORG', 'ORDINAL', 'WORK_OF_ART', 'NORP', 'PERCENT', 'DATE', 'LANGUAGE', 'FAC', 'LOC', 'TIME', 'PRODUCT', 'EVENT', 'QUANTITY', 'LAW'])\n",
    "    processed_stories = []\n",
    "    for story in tqdm(stories):\n",
    "        analysed = nlp(story)\n",
    "        processed_stories.append(\n",
    "            list(vectorizer.transform([story]).toarray()[0]) + \n",
    "            list(entity_types.transform([tag.label_ for tag in analysed.ents]).toarray()[0]) +\n",
    "            list(tfid.transform(vectorizer.transform([story])).toarray()[0])\n",
    "        )\n",
    "    return processed_stories"
   ]
  },
  {
   "cell_type": "markdown",
   "metadata": {},
   "source": [
    "We then define two of the feature extraction methods. `CountVectorizer` builds a vocabulary from the previously loaded training data. `TfidfTransformer` is then built using the matrix provided by `CountVectorizer`.\n",
    "\n",
    "The combination of the vectors resulted in very large $x$ vectors to train on. The best 500 features are selected using the $\\chi^2$ method"
   ]
  },
  {
   "cell_type": "code",
   "execution_count": 59,
   "metadata": {},
   "outputs": [
    {
     "output_type": "display_data",
     "data": {
      "text/plain": "  0%|          | 0/1779 [00:00<?, ?it/s]",
      "application/vnd.jupyter.widget-view+json": {
       "version_major": 2,
       "version_minor": 0,
       "model_id": "edb8628592f04774a846892fc50fe675"
      }
     },
     "metadata": {}
    },
    {
     "output_type": "stream",
     "name": "stdout",
     "text": [
      "<class 'list'>\n"
     ]
    }
   ],
   "source": [
    "vectorizer = CountVectorizer(stop_words=stopwords.words('english'))\n",
    "tfid = TfidfTransformer()\n",
    "\n",
    "vectorizer.fit(train_x)\n",
    "tfid.fit(vectorizer.transform(train_x))\n",
    "\n",
    "train_x = feature_extraction(train_x)\n",
    "print(type(train_x))\n",
    "\n",
    "get_best=SelectKBest(chi2, k=500).fit(train_x, train_y)\n",
    "train_x_chi = get_best.transform(train_x)"
   ]
  },
  {
   "cell_type": "markdown",
   "metadata": {},
   "source": [
    "The SVM object is constructed. The pipeline includes passing the data through the `StandardScaler` function which \"Standardize \\[sic\\] features by removing the mean and scaling to unit variance\"."
   ]
  },
  {
   "cell_type": "code",
   "execution_count": 60,
   "metadata": {},
   "outputs": [],
   "source": [
    "svm_clf=make_pipeline(StandardScaler(), svm.SVC(cache_size=10000, decision_function_shape='ovo'))"
   ]
  },
  {
   "cell_type": "markdown",
   "metadata": {},
   "source": [
    "We can then pass the training data to the SVM to train the model."
   ]
  },
  {
   "cell_type": "code",
   "execution_count": 61,
   "metadata": {},
   "outputs": [
    {
     "output_type": "execute_result",
     "data": {
      "text/plain": [
       "Pipeline(steps=[('standardscaler', StandardScaler()),\n",
       "                ('svc', SVC(cache_size=10000, decision_function_shape='ovo'))])"
      ]
     },
     "metadata": {},
     "execution_count": 61
    }
   ],
   "source": [
    "svm_clf.fit(train_x_chi, train_y)"
   ]
  },
  {
   "cell_type": "markdown",
   "metadata": {},
   "source": [
    "Using this model, we can run the training data through it in order to evaluate the SVM."
   ]
  },
  {
   "cell_type": "code",
   "execution_count": 62,
   "metadata": {},
   "outputs": [
    {
     "output_type": "display_data",
     "data": {
      "text/plain": "  0%|          | 0/445 [00:00<?, ?it/s]",
      "application/vnd.jupyter.widget-view+json": {
       "version_major": 2,
       "version_minor": 0,
       "model_id": "b241a09b75874cd3b4169547a4bd2958"
      }
     },
     "metadata": {}
    }
   ],
   "source": [
    "Y_text_predictions = svm_clf.predict(get_best.transform(feature_extraction(test_x)))"
   ]
  },
  {
   "cell_type": "markdown",
   "metadata": {},
   "source": [
    "The `classification_report` function allows us to easily generate a report on the success of the SVM by providing known good $Y$ values as well as $Y$ values attained through the SVM."
   ]
  },
  {
   "cell_type": "code",
   "execution_count": 63,
   "metadata": {},
   "outputs": [
    {
     "output_type": "stream",
     "name": "stdout",
     "text": [
      "               precision    recall  f1-score   support\n\n     business       0.88      0.92      0.90       100\nentertainment       0.97      0.88      0.92        76\n     politics       0.99      0.90      0.94        93\n        sport       0.90      0.98      0.94       111\n         tech       0.89      0.89      0.89        65\n\n     accuracy                           0.92       445\n    macro avg       0.93      0.92      0.92       445\n weighted avg       0.92      0.92      0.92       445\n\n"
     ]
    }
   ],
   "source": [
    "print(classification_report(test_y, Y_text_predictions, target_names=le.inverse_transform(svm_clf.classes_)))"
   ]
  },
  {
   "cell_type": "markdown",
   "metadata": {},
   "source": [
    "In order to use the SVM, a large amount of preprocessing needs to be done on a string. This has been encapsulated in the following function:"
   ]
  },
  {
   "cell_type": "code",
   "execution_count": 64,
   "metadata": {},
   "outputs": [],
   "source": [
    "def predict(story: str) -> str:\n",
    "    \"\"\"Gives a genre prediction for a news story\n",
    "\n",
    "    Args:\n",
    "        story (str): The plaintext of the story\n",
    "\n",
    "    Returns:\n",
    "        str: The genre of the story\n",
    "    \"\"\"\n",
    "    return le.inverse_transform(\n",
    "        svm_clf.predict(\n",
    "            get_best.transform(\n",
    "                feature_extraction([story])\n",
    "            )\n",
    "        )\n",
    "    )[0]"
   ]
  },
  {
   "cell_type": "markdown",
   "metadata": {},
   "source": [
    "We can then try this function with a news story."
   ]
  },
  {
   "cell_type": "code",
   "execution_count": 65,
   "metadata": {},
   "outputs": [
    {
     "output_type": "display_data",
     "data": {
      "text/plain": "  0%|          | 0/1 [00:00<?, ?it/s]",
      "application/vnd.jupyter.widget-view+json": {
       "version_major": 2,
       "version_minor": 0,
       "model_id": "fda50034ef274d099c3353cde6e0debf"
      }
     },
     "metadata": {}
    },
    {
     "output_type": "execute_result",
     "data": {
      "text/plain": [
       "'sport'"
      ]
     },
     "metadata": {},
     "execution_count": 65
    }
   ],
   "source": [
    "predict(\"\"\"\n",
    "This guide is a concise summary of the main policies being put forward by each party.\n",
    "\n",
    "The policy areas featured in the guide were selected using polling data on what the public consider to be the most important issues facing the country.\n",
    "\n",
    "While some issues such as health and education are the responsibility of the Scottish Parliament, others such as foreign policy and Brexit are decided at the UK parliament at Westminster. You can read more about how devolution works here.\n",
    "\n",
    "More information on how the issues and parties were selected is in our methodology.\n",
    "\n",
    "A full list of parties standing at the election will be published after nominations have closed.\n",
    "\"\"\")"
   ]
  },
  {
   "cell_type": "code",
   "execution_count": null,
   "metadata": {},
   "outputs": [],
   "source": []
  }
 ],
 "metadata": {
  "kernelspec": {
   "name": "python392jvsc74a57bd0aea754554291bc531c5082a1a77c0df7593cfc14c63ed34a0295729a0fffa55c",
   "display_name": "Python 3.9.2 64-bit ('CMT316': pipenv)"
  },
  "language_info": {
   "codemirror_mode": {
    "name": "ipython",
    "version": 3
   },
   "file_extension": ".py",
   "mimetype": "text/x-python",
   "name": "python",
   "nbconvert_exporter": "python",
   "pygments_lexer": "ipython3",
   "version": "3.9.2-final"
  },
  "metadata": {
   "interpreter": {
    "hash": "aea754554291bc531c5082a1a77c0df7593cfc14c63ed34a0295729a0fffa55c"
   }
  }
 },
 "nbformat": 4,
 "nbformat_minor": 2
}