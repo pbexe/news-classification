{
 "metadata": {
  "language_info": {
   "codemirror_mode": {
    "name": "ipython",
    "version": 3
   },
   "file_extension": ".py",
   "mimetype": "text/x-python",
   "name": "python",
   "nbconvert_exporter": "python",
   "pygments_lexer": "ipython3",
   "version": "3.8.6-final"
  },
  "orig_nbformat": 2,
  "kernelspec": {
   "name": "python3",
   "display_name": "Python 3.8.6 64-bit",
   "metadata": {
    "interpreter": {
     "hash": "2a5068d00c7e668f630311d69b177f3bf5e34ccc777378605e74da0c3f384e51"
    }
   }
  }
 },
 "nbformat": 4,
 "nbformat_minor": 2,
 "cells": [
  {
   "cell_type": "code",
   "execution_count": 234,
   "metadata": {},
   "outputs": [],
   "source": [
    "import numpy as np\n",
    "from random import shuffle\n",
    "from sklearn import svm\n",
    "from sklearn.pipeline import make_pipeline\n",
    "from sklearn.preprocessing import StandardScaler\n",
    "from sklearn.metrics import classification_report\n",
    "from sklearn.metrics import mean_squared_error\n"
   ]
  },
  {
   "cell_type": "code",
   "execution_count": 235,
   "metadata": {},
   "outputs": [],
   "source": [
    "def get_data(path):\n",
    "    data = []\n",
    "    with open(path, \"r\") as fp:\n",
    "        for line in fp.read().splitlines()[1:]:\n",
    "            data.append([line.split(\",\")[:-1], line.split(\",\")[-1]])\n",
    "    shuffle(data)\n",
    "    return data\n",
    "\n",
    "training_data = get_data(\"./real-state/train_full_Real-estate.csv\")\n",
    "testing_data = get_data(\"./real-state/train_full_Real-estate.csv\")\n",
    "train_x = [value[0] for value in training_data]\n",
    "train_y = [value[1] for value in training_data]"
   ]
  },
  {
   "cell_type": "code",
   "execution_count": 236,
   "metadata": {
    "tags": []
   },
   "outputs": [],
   "source": [
    "\n",
    "\n",
    "svm_clf=make_pipeline(StandardScaler(), svm.SVR(cache_size=2000, kernel='poly', degree=4, C=1000, gamma=0.1, epsilon=.1)).fit(train_x, train_y)"
   ]
  },
  {
   "cell_type": "code",
   "execution_count": 237,
   "metadata": {},
   "outputs": [
    {
     "output_type": "stream",
     "name": "stdout",
     "text": [
      "43.30035153178147\n",
      "C:\\Users\\conta\\AppData\\Local\\Packages\\PythonSoftwareFoundation.Python.3.8_qbz5n2kfra8p0\\LocalCache\\local-packages\\Python38\\site-packages\\sklearn\\utils\\validation.py:63: FutureWarning: Arrays of bytes/strings is being converted to decimal numbers if dtype='numeric'. This behavior is deprecated in 0.24 and will be removed in 1.1 (renaming of 0.26). Please convert your data to numeric values explicitly instead.\n",
      "  return f(*args, **kwargs)\n"
     ]
    }
   ],
   "source": [
    "\n",
    "\n",
    "Y_test_gold = [value[1] for value in testing_data]\n",
    "Y_text_predictions = svm_clf.predict([value[0] for value in testing_data])\n",
    "\n",
    "print(mean_squared_error(Y_test_gold, Y_text_predictions))"
   ]
  },
  {
   "cell_type": "code",
   "execution_count": null,
   "metadata": {},
   "outputs": [],
   "source": []
  }
 ]
}